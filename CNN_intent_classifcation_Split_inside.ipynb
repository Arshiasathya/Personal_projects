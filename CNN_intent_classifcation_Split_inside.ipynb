{
 "cells": [
  {
   "cell_type": "code",
   "execution_count": 4,
   "metadata": {},
   "outputs": [
    {
     "name": "stderr",
     "output_type": "stream",
     "text": [
      "Using TensorFlow backend.\n"
     ]
    }
   ],
   "source": [
    "import os\n",
    "import sys\n",
    "import numpy as np\n",
    "import matplotlib.pyplot as plt\n",
    "%matplotlib inline\n",
    "import pandas as pd\n",
    "import ipdb\n",
    "import pickle\n",
    "\n",
    "from sklearn.model_selection import train_test_split\n",
    "from sklearn import preprocessing\n",
    "from sklearn.metrics import confusion_matrix\n",
    "from sklearn.utils.multiclass import unique_labels\n",
    "from sklearn.metrics import classification_report \n",
    "\n",
    "from keras.preprocessing.text import Tokenizer\n",
    "from keras.preprocessing.sequence import pad_sequences\n",
    "from keras.utils import to_categorical\n",
    "from keras.layers import Dense\n",
    "from keras.layers import Input\n",
    "from keras.layers import Flatten\n",
    "from keras.layers import Reshape, Dropout, Concatenate, BatchNormalization, Activation\n",
    "from keras.layers import Conv2D, MaxPool2D, Embedding, GlobalMaxPool2D\n",
    "from keras.models import Model, load_model\n",
    "from keras import backend as K"
   ]
  },
  {
   "cell_type": "markdown",
   "metadata": {},
   "source": [
    "Data Cleaning Imports"
   ]
  },
  {
   "cell_type": "code",
   "execution_count": 2,
   "metadata": {},
   "outputs": [],
   "source": [
    "import re, string, unicodedata\n",
    "import nltk \n",
    "import contractions\n",
    "import inflect \n",
    "from nltk import word_tokenize, sent_tokenize\n",
    "from nltk.corpus import stopwords\n",
    "from nltk.stem import WordNetLemmatizer\n",
    "import regex"
   ]
  },
  {
   "cell_type": "code",
   "execution_count": 83,
   "metadata": {},
   "outputs": [],
   "source": [
    "embedding_dir = '/opt/flask/src/Flask_Core/Nltk/Data/flaskwordembeddings'\n",
    "max_sequence_length = 30\n",
    "vocabulary_size = 20000\n",
    "embedding_dim = 300\n",
    "clean_data = False\n",
    "VALIDATION_SPLIT = 0.40"
   ]
  },
  {
   "cell_type": "markdown",
   "metadata": {},
   "source": [
    "Loading Data"
   ]
  },
  {
   "cell_type": "code",
   "execution_count": 80,
   "metadata": {},
   "outputs": [],
   "source": [
    "train_df = pd.read_csv('/opt/flask/src/Flask_Core/Nltk/Data/Datasets/Full_data.csv')\n",
    "#validation_df = pd.read_csv('/opt/flask/src/Flask_Core/Nltk/Data/Datasets/validation_full_training_datathon3_5_70_percent_monday_loop.csv')\n",
    "#test_df = pd.read_csv('/opt/flask/src/Flask_Core/Nltk/Data/Datasets/thirty_percent_for_testing_data.csv')"
   ]
  },
  {
   "cell_type": "code",
   "execution_count": 81,
   "metadata": {},
   "outputs": [
    {
     "name": "stdout",
     "output_type": "stream",
     "text": [
      "length of training data Before cleaning:2872\n"
     ]
    }
   ],
   "source": [
    "print(f'length of training data Before cleaning:{len(train_df)}')\n",
    "#print(f'length of validation data Before Cleaning:{len(validation_df)}')\n",
    "#print(f'length of test data Before Cleaning:{len(test_df)}')"
   ]
  },
  {
   "cell_type": "markdown",
   "metadata": {},
   "source": [
    "Data Cleaning"
   ]
  },
  {
   "cell_type": "code",
   "execution_count": 6,
   "metadata": {},
   "outputs": [],
   "source": [
    "def tokenize(text):\n",
    "    tokens = nltk.word_tokenize(text)\n",
    "    return tokens\n",
    "\n",
    "def remove_non_ascii(words):\n",
    "    \"\"\"Remove the non ascii characters from list of tokenized words\"\"\"\n",
    "    non_ascii_removed = []\n",
    "    for word in words:\n",
    "        new_word = unicodedata.normalize('NFKD', word).encode('ascii', 'ignore').decode('utf-8', 'ignore')\n",
    "        non_ascii_removed.append(new_word)\n",
    "    return non_ascii_removed\n",
    "\n",
    "def to_lowercase(words):\n",
    "    \"\"\"Convert all characters to lowercase from list of tokenized words\"\"\"\n",
    "    lower_cased = []\n",
    "    for word in words:\n",
    "        new_word = word.lower()\n",
    "        lower_cased.append(new_word)\n",
    "    return lower_cased\n",
    "\n",
    "def remove_punctuations(words):\n",
    "    \"\"\"Remove punctuation from list of tokenized words\"\"\"\n",
    "    punctuation_removed = []\n",
    "    for word in words:\n",
    "        new_word = re.sub(r'[^\\w\\s]', '', word)\n",
    "        if new_word != '':\n",
    "            punctuation_removed.append(new_word)\n",
    "    return punctuation_removed\n",
    "\n",
    "def replace_number(words):\n",
    "    \"\"\"Replace all integer occurances in the list of tokenized words with textual representation\"\"\"\n",
    "    p = inflect.engine()\n",
    "    number_replaced = []\n",
    "    for word in words:\n",
    "        if word.isdigit():\n",
    "            new_word = p.number_to_words(word)\n",
    "            number_replaced.append(new_word)\n",
    "        else:\n",
    "            number_replaced.append(word)\n",
    "    return number_replaced\n",
    "\n",
    "def remove_stopwords(words):\n",
    "    \"\"\"Remove stop words from list of tokenized words\"\"\"\n",
    "    stopwords_removed = []\n",
    "    for word in words:\n",
    "        if word not in stopwords.words('english'):\n",
    "            stopwords_removed.append(word)\n",
    "    return stopwords_removed\n",
    "\n",
    "def lemmatize_words(words):\n",
    "    \"\"\"lemmatize verbs in list of tokenized words\"\"\"\n",
    "    lemmatizer = WordNetLemmatizer()\n",
    "    lemmas = []\n",
    "    for word in words:\n",
    "        lemma = lemmatizer.lemmatize(word, pos='v')\n",
    "        lemmas.append(lemma)\n",
    "    return lemmas\n",
    "\n",
    "def remove_emai_phone(words):\n",
    "    \"\"\"remove the email and phone number\"\"\"\n",
    "    email_phone_removed = []\n",
    "    for word in words:\n",
    "        #ipdb.set_trace()\n",
    "        phone_removed = re.sub(r'[a-z0-9\\.\\-+_]+@[a-z0-9\\.\\-+_]+\\.[a-z]+','',word)\n",
    "        removed = re.sub(r'\\S*7\\S*\\s?','',phone_removed)\n",
    "        fax_removal = re.sub(r'\\S*fax\\S*\\s?','',removed)\n",
    "        cell_removal = re.sub(r'\\S*cell\\S*\\s?','',fax_removal)\n",
    "        final_remove = re.sub(r'\\\"intouch\\:[0-9a-zA-Z\\@\\.]{1,}\\\"','',cell_removal)\n",
    "        email_phone_removed.append(final_remove)\n",
    "    return email_phone_removed\n",
    "\n",
    "def cleaning_text(text):\n",
    "    tokens = tokenize(text)\n",
    "    non_ascii_removed = remove_non_ascii(tokens)\n",
    "    lower_cased_words = to_lowercase(non_ascii_removed)\n",
    "    remove_punctuation = remove_punctuations(lower_cased_words)\n",
    "    numbers_replaced = replace_number(remove_punctuation)\n",
    "    stopwords_removed = remove_stopwords(numbers_replaced)\n",
    "    lemmatized_words = lemmatize_words(stopwords_removed)\n",
    "    email_ph_removed = remove_emai_phone(lemmatized_words)\n",
    "    return email_ph_removed"
   ]
  },
  {
   "cell_type": "code",
   "execution_count": 7,
   "metadata": {},
   "outputs": [],
   "source": [
    "#training data cleaning\n",
    "sent = []\n",
    "for text in train_df['Text']:\n",
    "    cleaned_text = cleaning_text(text)\n",
    "    for row in cleaned_text:\n",
    "        sequ = ''\n",
    "    for word in cleaned_text:\n",
    "        #ipdb.set_trace()\n",
    "        sequ = sequ+' '+word\n",
    "    sent.append(sequ)"
   ]
  },
  {
   "cell_type": "code",
   "execution_count": 8,
   "metadata": {},
   "outputs": [],
   "source": [
    "#Creating training dataframe\n",
    "d = {'Text':sent, 'Label':train_df['Label']}\n",
    "train = pd.DataFrame(d, index=None)"
   ]
  },
  {
   "cell_type": "code",
   "execution_count": 9,
   "metadata": {},
   "outputs": [],
   "source": [
    "#validation data cleaning\n",
    "sent = []\n",
    "for text in validation_df['Sample']:\n",
    "    cleaned_text = cleaning_text(text)\n",
    "    for row in cleaned_text:\n",
    "        sequ = ''\n",
    "    for word in cleaned_text:\n",
    "        #ipdb.set_trace()\n",
    "        sequ = sequ+' '+word\n",
    "    sent.append(sequ)"
   ]
  },
  {
   "cell_type": "code",
   "execution_count": 10,
   "metadata": {},
   "outputs": [],
   "source": [
    "#Creating validation dataframe\n",
    "d = {'Text':sent, 'Label':validation_df['Label']}\n",
    "valid = pd.DataFrame(d, index=None)"
   ]
  },
  {
   "cell_type": "code",
   "execution_count": 11,
   "metadata": {},
   "outputs": [],
   "source": [
    "#testing data cleaning\n",
    "sent = []\n",
    "for text in test_df['Sample']:\n",
    "    cleaned_text = cleaning_text(text)\n",
    "    for row in cleaned_text:\n",
    "        sequ = ''\n",
    "    for word in cleaned_text:\n",
    "        #ipdb.set_trace()\n",
    "        sequ = sequ+' '+word\n",
    "    sent.append(sequ)"
   ]
  },
  {
   "cell_type": "code",
   "execution_count": 12,
   "metadata": {},
   "outputs": [],
   "source": [
    "#Creating test dataframe\n",
    "d = {'Text':sent, 'Label':test_df['Label']}\n",
    "test = pd.DataFrame(d, index=None)"
   ]
  },
  {
   "cell_type": "code",
   "execution_count": 13,
   "metadata": {},
   "outputs": [
    {
     "name": "stdout",
     "output_type": "stream",
     "text": [
      "length of training data Before cleaning:2325\n",
      "length of validation data Before Cleaning:259\n",
      "length of test data Before Cleaning:288\n"
     ]
    }
   ],
   "source": [
    "print(f'length of training data Before cleaning:{len(train)}')\n",
    "print(f'length of validation data Before Cleaning:{len(valid)}')\n",
    "print(f'length of test data Before Cleaning:{len(test)}')"
   ]
  },
  {
   "cell_type": "code",
   "execution_count": 82,
   "metadata": {},
   "outputs": [
    {
     "name": "stdout",
     "output_type": "stream",
     "text": [
      "{0: 0, 1: 1, 2: 2, 3: 3, 4: 4, 5: 5, 6: 6, 7: 7, 8: 8, 9: 9, 10: 10, 11: 11, 12: 12, 13: 13, 14: 14, 15: 15, 16: 16, 17: 17, 18: 18, 19: 19, 20: 20, 21: 21, 22: 22, 23: 23, 24: 24, 25: 25, 26: 26, 27: 27, 28: 28, 29: 29, 30: 30, 31: 31}\n"
     ]
    }
   ],
   "source": [
    "le = preprocessing.LabelEncoder()\n",
    "\n",
    "train_labels = le.fit_transform(train['Label']) if clean_data == True else le.fit_transform(train_df['Label'])\n",
    "\n",
    "#validation_labels = le.transform(valid['Label']) if clean_data == True else le.transform(validation_df['Label'])\n",
    "\n",
    "#test_labels = le.transform(test['Label']) if clean_data == True else le.transform(test_df['Label'])\n",
    "\n",
    "#label_dict = dict(zip(list(le.classes_), le.transform(list(le.classes_))))\n",
    "print(label_dict)\n",
    "\n",
    "num_classes = len(le.classes_)"
   ]
  },
  {
   "cell_type": "markdown",
   "metadata": {},
   "source": [
    "Toeknizing tex and creating word index"
   ]
  },
  {
   "cell_type": "code",
   "execution_count": 87,
   "metadata": {},
   "outputs": [
    {
     "name": "stdout",
     "output_type": "stream",
     "text": [
      "Found 2967 unique tokens.\n",
      "Preparing embedding matrix.\n",
      "Shape of training data tensor: (1724, 30)\n",
      "Shape of training label tensor: (1724, 32)\n",
      "Shape of validation tensor: (1148, 30)\n",
      "shape of valid label tensor: (1148, 32)\n"
     ]
    }
   ],
   "source": [
    "tokenizer = Tokenizer(num_words=vocabulary_size)\n",
    "tokenizer.fit_on_texts(train['Text']) if clean_data == True else tokenizer.fit_on_texts(train_df['Text'])\n",
    "#ipdb.set_trace()\n",
    "train_sequences = tokenizer.texts_to_sequences(train['Text']) if clean_data == True else tokenizer.texts_to_sequences(train_df['Text'])\n",
    "#validation_sequences = tokenizer.texts_to_sequences(valid['Text']) if clean_data == True else tokenizer.texts_to_sequences(validation_df['Text'])\n",
    "\n",
    "\n",
    "word_index = tokenizer.word_index\n",
    "print('Found %s unique tokens.' % len(word_index))\n",
    "\n",
    "training_data = pad_sequences(train_sequences, maxlen=max_sequence_length)\n",
    "#valid_data = pad_sequences(validation_sequences, maxlen=max_sequence_length)\n",
    "\n",
    "training_labels = to_categorical(np.asarray(train_labels))\n",
    "#valid_labels = to_categorical(np.asarray(validation_labels))\n",
    "\n",
    "# split the data into a training set and a validation set\n",
    "indices = np.arange(training_data.shape[0])\n",
    "np.random.shuffle(indices)\n",
    "training_data = training_data[indices]\n",
    "training_labels = training_labels[indices]\n",
    "num_validation_samples = int(VALIDATION_SPLIT * training_data.shape[0])\n",
    "\n",
    "training_data = training_data[:-num_validation_samples]\n",
    "training_labels = training_labels[:-num_validation_samples]\n",
    "valid_data = training_data[-num_validation_samples:]\n",
    "valid_labels = training_labels[-num_validation_samples:]\n",
    "\n",
    "print('Preparing embedding matrix.')\n",
    "\n",
    "\n",
    "print('Shape of training data tensor:', training_data.shape)\n",
    "print('Shape of training label tensor:', training_labels.shape)\n",
    "print('Shape of validation tensor:', valid_data.shape)\n",
    "print('shape of valid label tensor:',valid_labels.shape )\n",
    "\n",
    "#print('Preparing embedding matrix.')"
   ]
  },
  {
   "cell_type": "markdown",
   "metadata": {},
   "source": [
    "Creating embedding matrix from Word2vec"
   ]
  },
  {
   "cell_type": "code",
   "execution_count": 49,
   "metadata": {},
   "outputs": [],
   "source": [
    "from gensim.models.keyedvectors import KeyedVectors"
   ]
  },
  {
   "cell_type": "code",
   "execution_count": 50,
   "metadata": {},
   "outputs": [],
   "source": [
    "embed_model = KeyedVectors.load_word2vec_format('/opt/flask/src/Flask_Core/Nltk/Data/flaskwordembeddings/word2vec.100B.300d.bin', binary=True)"
   ]
  },
  {
   "cell_type": "code",
   "execution_count": 51,
   "metadata": {},
   "outputs": [],
   "source": [
    "embed_model_txt = embed_model.save_word2vec_format('/opt/flask/src/Flask_Core/Nltk/Data/flaskwordembeddings/word2vec.100B.300d.txt', binary=False)"
   ]
  },
  {
   "cell_type": "code",
   "execution_count": 52,
   "metadata": {},
   "outputs": [
    {
     "name": "stdout",
     "output_type": "stream",
     "text": [
      "Indexing word vectors.\n",
      "Found 3000000 word vectors.\n"
     ]
    }
   ],
   "source": [
    "print('Indexing word vectors.')\n",
    "\n",
    "embeddings_index = {}\n",
    "f = open(os.path.join(embedding_dir, 'word2vec.100B.300d.txt'), encoding='utf-8')\n",
    "for line in f:\n",
    "    values = line.split()\n",
    "    word = values[0]\n",
    "    coefs = np.asarray(values[1:], dtype='float32')\n",
    "    embeddings_index[word] = coefs\n",
    "f.close()\n",
    "\n",
    "print('Found %s word vectors.' % len(embeddings_index))"
   ]
  },
  {
   "cell_type": "code",
   "execution_count": 88,
   "metadata": {},
   "outputs": [],
   "source": [
    "num_words = min(vocabulary_size, len(word_index))\n",
    "embedding_matrix = np.zeros((len(word_index) + 1, embedding_dim))\n",
    "for word, i in word_index.items():\n",
    "    embedding_vector = embeddings_index.get(word)\n",
    "    if embedding_vector is not None:\n",
    "        # words not found in embedding index will be all-zeros.\n",
    "        embedding_matrix[i] = embedding_vector"
   ]
  },
  {
   "cell_type": "markdown",
   "metadata": {},
   "source": [
    "Model"
   ]
  },
  {
   "cell_type": "code",
   "execution_count": 89,
   "metadata": {},
   "outputs": [
    {
     "name": "stdout",
     "output_type": "stream",
     "text": [
      "Creating Model...\n",
      "__________________________________________________________________________________________________\n",
      "Layer (type)                    Output Shape         Param #     Connected to                     \n",
      "==================================================================================================\n",
      "input_4 (InputLayer)            (None, 30)           0                                            \n",
      "__________________________________________________________________________________________________\n",
      "embedding_4 (Embedding)         (None, 30, 300)      890400      input_4[0][0]                    \n",
      "__________________________________________________________________________________________________\n",
      "reshape_4 (Reshape)             (None, 30, 300, 1)   0           embedding_4[0][0]                \n",
      "__________________________________________________________________________________________________\n",
      "conv2d_10 (Conv2D)              (None, 26, 1, 512)   768512      reshape_4[0][0]                  \n",
      "__________________________________________________________________________________________________\n",
      "conv2d_11 (Conv2D)              (None, 26, 1, 512)   768512      reshape_4[0][0]                  \n",
      "__________________________________________________________________________________________________\n",
      "conv2d_12 (Conv2D)              (None, 28, 1, 512)   461312      reshape_4[0][0]                  \n",
      "__________________________________________________________________________________________________\n",
      "max_pooling2d_10 (MaxPooling2D) (None, 1, 1, 512)    0           conv2d_10[0][0]                  \n",
      "__________________________________________________________________________________________________\n",
      "max_pooling2d_11 (MaxPooling2D) (None, 1, 1, 512)    0           conv2d_11[0][0]                  \n",
      "__________________________________________________________________________________________________\n",
      "max_pooling2d_12 (MaxPooling2D) (None, 1, 1, 512)    0           conv2d_12[0][0]                  \n",
      "__________________________________________________________________________________________________\n",
      "concatenate_4 (Concatenate)     (None, 3, 1, 512)    0           max_pooling2d_10[0][0]           \n",
      "                                                                 max_pooling2d_11[0][0]           \n",
      "                                                                 max_pooling2d_12[0][0]           \n",
      "__________________________________________________________________________________________________\n",
      "flatten_4 (Flatten)             (None, 1536)         0           concatenate_4[0][0]              \n",
      "__________________________________________________________________________________________________\n",
      "activation_7 (Activation)       (None, 1536)         0           flatten_4[0][0]                  \n",
      "__________________________________________________________________________________________________\n",
      "dropout_7 (Dropout)             (None, 1536)         0           activation_7[0][0]               \n",
      "__________________________________________________________________________________________________\n",
      "dense_7 (Dense)                 (None, 100)          153700      dropout_7[0][0]                  \n",
      "__________________________________________________________________________________________________\n",
      "activation_8 (Activation)       (None, 100)          0           dense_7[0][0]                    \n",
      "__________________________________________________________________________________________________\n",
      "dropout_8 (Dropout)             (None, 100)          0           activation_8[0][0]               \n",
      "__________________________________________________________________________________________________\n",
      "dense_8 (Dense)                 (None, 32)           3232        dropout_8[0][0]                  \n",
      "==================================================================================================\n",
      "Total params: 3,045,668\n",
      "Trainable params: 2,155,268\n",
      "Non-trainable params: 890,400\n",
      "__________________________________________________________________________________________________\n"
     ]
    }
   ],
   "source": [
    "kernel_sizes = [5,5,3]\n",
    "num_kernels = 512\n",
    "dropout_rate = 0.5\n",
    "num_dense_nodes = 100\n",
    "\n",
    "print(\"Creating Model...\")\n",
    "inputs = Input(shape=(max_sequence_length,), dtype='int32')\n",
    "embedding = Embedding(input_dim=len(word_index) + 1, output_dim=embedding_dim, weights=[embedding_matrix],\n",
    "                      input_length=max_sequence_length, trainable=False)(inputs)\n",
    "reshape = Reshape((max_sequence_length,embedding_dim,1))(embedding)\n",
    "\n",
    "conv_0 = Conv2D(num_kernels, kernel_size=(kernel_sizes[0], embedding_dim), padding='valid', kernel_initializer='normal', activation='relu')(reshape)\n",
    "conv_1 = Conv2D(num_kernels, kernel_size=(kernel_sizes[1], embedding_dim), padding='valid', kernel_initializer='normal', activation='relu')(reshape)\n",
    "conv_2 = Conv2D(num_kernels, kernel_size=(kernel_sizes[2], embedding_dim), padding='valid', kernel_initializer='normal', activation='relu')(reshape)\n",
    "\n",
    "\n",
    "# maxpool_0 = GlobalMaxPool2D()(conv_0)\n",
    "# maxpool_1 = GlobalMaxPool2D()(conv_1)\n",
    "# maxpool_2 = GlobalMaxPool2D()(conv_2)\n",
    "maxpool_0 = MaxPool2D(pool_size=(max_sequence_length - kernel_sizes[0] + 1, 1), strides=(1,1), padding='valid')(conv_0)\n",
    "maxpool_1 = MaxPool2D(pool_size=(max_sequence_length - kernel_sizes[1] + 1, 1), strides=(1,1), padding='valid')(conv_1)\n",
    "maxpool_2 = MaxPool2D(pool_size=(max_sequence_length - kernel_sizes[2] + 1, 1), strides=(1,1), padding='valid')(conv_2)\n",
    "\n",
    "concatenated_tensor = Concatenate(axis=1)([maxpool_0, maxpool_1, maxpool_2])\n",
    "flatten = Flatten()(concatenated_tensor)\n",
    "#batch_norm = BatchNormalization()(flatten)\n",
    "batch_norm_1 = Activation('relu')(flatten)\n",
    "dropout = Dropout(dropout_rate)(batch_norm_1)\n",
    "dense = Dense(units=num_dense_nodes, activation=K.tanh)(dropout)\n",
    "#batch_norm_0 = BatchNormalization()(dense)\n",
    "batch_norm_0 = Activation('relu')(dense)\n",
    "dropout = Dropout(dropout_rate)(batch_norm_0)\n",
    "output = Dense(len(label_dict), activation='softmax')(dropout)\n",
    "\n",
    "# this creates a model that includes inputs and outputs\n",
    "model = Model(inputs=inputs, outputs=output)\n",
    "\n",
    "model.compile(loss='categorical_crossentropy',\n",
    "              optimizer='adam',\n",
    "              metrics=['acc'])\n",
    "\n",
    "model.summary()"
   ]
  },
  {
   "cell_type": "code",
   "execution_count": 90,
   "metadata": {},
   "outputs": [],
   "source": [
    "model_name = 'test_model_70_40'\n",
    "saving_path = '/opt/flask/src/Flask_Core/Nltk/Data/TrainedModels/'"
   ]
  },
  {
   "cell_type": "code",
   "execution_count": 91,
   "metadata": {},
   "outputs": [
    {
     "name": "stdout",
     "output_type": "stream",
     "text": [
      "Train on 1724 samples, validate on 1148 samples\n",
      "Epoch 1/50\n",
      "1724/1724 [==============================] - 3s 2ms/step - loss: 3.4952 - acc: 0.0447 - val_loss: 3.3327 - val_acc: 0.1211\n",
      "Epoch 2/50\n",
      "1724/1724 [==============================] - 1s 680us/step - loss: 3.3082 - acc: 0.1131 - val_loss: 3.0893 - val_acc: 0.2944\n",
      "Epoch 3/50\n",
      "1724/1724 [==============================] - 1s 673us/step - loss: 3.1292 - acc: 0.1839 - val_loss: 2.8519 - val_acc: 0.4138\n",
      "Epoch 4/50\n",
      "1724/1724 [==============================] - 1s 682us/step - loss: 2.9399 - acc: 0.2506 - val_loss: 2.5876 - val_acc: 0.5409\n",
      "Epoch 5/50\n",
      "1724/1724 [==============================] - 1s 676us/step - loss: 2.6767 - acc: 0.3440 - val_loss: 2.2970 - val_acc: 0.6699\n",
      "Epoch 6/50\n",
      "1724/1724 [==============================] - 1s 672us/step - loss: 2.3845 - acc: 0.4339 - val_loss: 1.9215 - val_acc: 0.7805\n",
      "Epoch 7/50\n",
      "1724/1724 [==============================] - 1s 674us/step - loss: 2.1023 - acc: 0.5203 - val_loss: 1.5528 - val_acc: 0.8284\n",
      "Epoch 8/50\n",
      "1724/1724 [==============================] - 1s 672us/step - loss: 1.7952 - acc: 0.6143 - val_loss: 1.3034 - val_acc: 0.8920\n",
      "Epoch 9/50\n",
      "1724/1724 [==============================] - 1s 683us/step - loss: 1.5441 - acc: 0.6949 - val_loss: 0.9916 - val_acc: 0.9129\n",
      "Epoch 10/50\n",
      "1724/1724 [==============================] - 1s 678us/step - loss: 1.2992 - acc: 0.7448 - val_loss: 0.7549 - val_acc: 0.9547\n",
      "Epoch 11/50\n",
      "1724/1724 [==============================] - 1s 677us/step - loss: 1.0723 - acc: 0.8103 - val_loss: 0.5627 - val_acc: 0.9713\n",
      "Epoch 12/50\n",
      "1724/1724 [==============================] - 1s 674us/step - loss: 0.9019 - acc: 0.8469 - val_loss: 0.4187 - val_acc: 0.9791\n",
      "Epoch 13/50\n",
      "1724/1724 [==============================] - 1s 677us/step - loss: 0.7431 - acc: 0.8834 - val_loss: 0.3171 - val_acc: 0.9869\n",
      "Epoch 14/50\n",
      "1724/1724 [==============================] - 1s 669us/step - loss: 0.5948 - acc: 0.9176 - val_loss: 0.2238 - val_acc: 0.9913\n",
      "Epoch 15/50\n",
      "1724/1724 [==============================] - 1s 674us/step - loss: 0.5225 - acc: 0.9316 - val_loss: 0.1707 - val_acc: 0.9930\n",
      "Epoch 16/50\n",
      "1724/1724 [==============================] - 1s 675us/step - loss: 0.4256 - acc: 0.9495 - val_loss: 0.1287 - val_acc: 0.9948\n",
      "Epoch 17/50\n",
      "1724/1724 [==============================] - 1s 674us/step - loss: 0.3557 - acc: 0.9617 - val_loss: 0.1007 - val_acc: 0.9965\n",
      "Epoch 18/50\n",
      "1724/1724 [==============================] - 1s 680us/step - loss: 0.3161 - acc: 0.9635 - val_loss: 0.0734 - val_acc: 0.9965\n",
      "Epoch 19/50\n",
      "1724/1724 [==============================] - 1s 677us/step - loss: 0.2613 - acc: 0.9745 - val_loss: 0.0580 - val_acc: 0.9974\n",
      "Epoch 20/50\n",
      "1724/1724 [==============================] - 1s 673us/step - loss: 0.2339 - acc: 0.9768 - val_loss: 0.0459 - val_acc: 0.9974\n",
      "Epoch 21/50\n",
      "1724/1724 [==============================] - 1s 675us/step - loss: 0.1928 - acc: 0.9872 - val_loss: 0.0353 - val_acc: 0.9974\n",
      "Epoch 22/50\n",
      "1724/1724 [==============================] - 1s 676us/step - loss: 0.1786 - acc: 0.9849 - val_loss: 0.0284 - val_acc: 0.9991\n",
      "Epoch 23/50\n",
      "1724/1724 [==============================] - 1s 683us/step - loss: 0.1584 - acc: 0.9855 - val_loss: 0.0251 - val_acc: 1.0000\n",
      "Epoch 24/50\n",
      "1724/1724 [==============================] - 1s 683us/step - loss: 0.1254 - acc: 0.9901 - val_loss: 0.0187 - val_acc: 0.9991\n",
      "Epoch 25/50\n",
      "1724/1724 [==============================] - 1s 682us/step - loss: 0.1253 - acc: 0.9913 - val_loss: 0.0183 - val_acc: 0.9983\n",
      "Epoch 26/50\n",
      "1724/1724 [==============================] - 1s 685us/step - loss: 0.1163 - acc: 0.9884 - val_loss: 0.0147 - val_acc: 1.0000\n",
      "Epoch 27/50\n",
      "1724/1724 [==============================] - 1s 691us/step - loss: 0.1132 - acc: 0.9907 - val_loss: 0.0130 - val_acc: 1.0000\n",
      "Epoch 28/50\n",
      "1724/1724 [==============================] - 1s 689us/step - loss: 0.0850 - acc: 0.9965 - val_loss: 0.0103 - val_acc: 1.0000\n",
      "Epoch 29/50\n",
      "1724/1724 [==============================] - 1s 679us/step - loss: 0.0811 - acc: 0.9959 - val_loss: 0.0094 - val_acc: 1.0000\n",
      "Epoch 30/50\n",
      "1724/1724 [==============================] - 1s 675us/step - loss: 0.0740 - acc: 0.9954 - val_loss: 0.0071 - val_acc: 1.0000\n",
      "Epoch 31/50\n",
      "1724/1724 [==============================] - 1s 668us/step - loss: 0.0749 - acc: 0.9936 - val_loss: 0.0069 - val_acc: 1.0000\n",
      "Epoch 32/50\n",
      "1724/1724 [==============================] - 1s 678us/step - loss: 0.0774 - acc: 0.9936 - val_loss: 0.0066 - val_acc: 1.0000\n",
      "Epoch 33/50\n",
      "1724/1724 [==============================] - 1s 683us/step - loss: 0.0697 - acc: 0.9948 - val_loss: 0.0057 - val_acc: 1.0000\n",
      "Epoch 34/50\n",
      "1724/1724 [==============================] - 1s 687us/step - loss: 0.0628 - acc: 0.9948 - val_loss: 0.0047 - val_acc: 1.0000\n",
      "Epoch 35/50\n",
      "1724/1724 [==============================] - 1s 673us/step - loss: 0.0656 - acc: 0.9942 - val_loss: 0.0043 - val_acc: 1.0000\n",
      "Epoch 36/50\n",
      "1724/1724 [==============================] - 1s 675us/step - loss: 0.0517 - acc: 0.9965 - val_loss: 0.0035 - val_acc: 1.0000\n",
      "Epoch 37/50\n",
      "1724/1724 [==============================] - 1s 677us/step - loss: 0.0504 - acc: 0.9948 - val_loss: 0.0035 - val_acc: 1.0000\n",
      "Epoch 38/50\n",
      "1724/1724 [==============================] - 1s 679us/step - loss: 0.0436 - acc: 0.9988 - val_loss: 0.0031 - val_acc: 1.0000\n",
      "Epoch 39/50\n",
      "1724/1724 [==============================] - 1s 670us/step - loss: 0.0438 - acc: 0.9988 - val_loss: 0.0027 - val_acc: 1.0000\n",
      "Epoch 40/50\n",
      "1724/1724 [==============================] - 1s 675us/step - loss: 0.0387 - acc: 0.9971 - val_loss: 0.0028 - val_acc: 1.0000\n",
      "Epoch 41/50\n",
      "1724/1724 [==============================] - 1s 677us/step - loss: 0.0372 - acc: 0.9983 - val_loss: 0.0031 - val_acc: 0.9991\n",
      "Epoch 42/50\n",
      "1724/1724 [==============================] - 1s 687us/step - loss: 0.0361 - acc: 0.9959 - val_loss: 0.0022 - val_acc: 1.0000\n",
      "Epoch 43/50\n",
      "1724/1724 [==============================] - 1s 687us/step - loss: 0.0377 - acc: 0.9965 - val_loss: 0.0021 - val_acc: 1.0000\n",
      "Epoch 44/50\n",
      "1724/1724 [==============================] - 1s 687us/step - loss: 0.0377 - acc: 0.9954 - val_loss: 0.0022 - val_acc: 1.0000\n",
      "Epoch 45/50\n",
      "1724/1724 [==============================] - 1s 678us/step - loss: 0.0370 - acc: 0.9988 - val_loss: 0.0033 - val_acc: 0.9991\n",
      "Epoch 46/50\n",
      "1724/1724 [==============================] - 1s 686us/step - loss: 0.0375 - acc: 0.9959 - val_loss: 0.0024 - val_acc: 1.0000\n",
      "Epoch 47/50\n",
      "1724/1724 [==============================] - 1s 688us/step - loss: 0.0299 - acc: 0.9977 - val_loss: 0.0016 - val_acc: 1.0000\n",
      "Epoch 48/50\n",
      "1724/1724 [==============================] - 1s 683us/step - loss: 0.0338 - acc: 0.9983 - val_loss: 0.0017 - val_acc: 1.0000\n",
      "Epoch 49/50\n",
      "1724/1724 [==============================] - 1s 684us/step - loss: 0.0287 - acc: 0.9988 - val_loss: 0.0016 - val_acc: 1.0000\n",
      "Epoch 50/50\n",
      "1724/1724 [==============================] - 1s 685us/step - loss: 0.0263 - acc: 0.9988 - val_loss: 0.0011 - val_acc: 1.0000\n"
     ]
    }
   ],
   "source": [
    "history = model.fit(training_data, training_labels, batch_size=32, epochs=50, validation_data=(valid_data, valid_labels))"
   ]
  },
  {
   "cell_type": "markdown",
   "metadata": {},
   "source": [
    "Saving model and Pickling pipeline"
   ]
  },
  {
   "cell_type": "code",
   "execution_count": 92,
   "metadata": {},
   "outputs": [],
   "source": [
    "model.save(saving_path + model_name + '.h5')\n",
    "\n",
    "with open(saving_path +'utils_'+ model_name +'.pickle', 'wb') as f:\n",
    "    pickle.dump((le, tokenizer,num_classes, max_sequence_length), f)"
   ]
  },
  {
   "cell_type": "markdown",
   "metadata": {},
   "source": [
    "loading model and unpickling"
   ]
  },
  {
   "cell_type": "code",
   "execution_count": 93,
   "metadata": {},
   "outputs": [],
   "source": [
    "with open (saving_path + 'utils_'+ model_name+'.pickle', 'rb') as f:\n",
    "    pred_le, pred_tokenizer, pred_num_classes, pred_max_sequence_length = pickle.load(f)\n",
    "\n",
    "loaded_model = load_model(saving_path + model_name +'.h5')"
   ]
  },
  {
   "cell_type": "code",
   "execution_count": 94,
   "metadata": {},
   "outputs": [
    {
     "data": {
      "image/png": "[encoded data removed]",
      "text/plain": [
       "<matplotlib.figure.Figure at 0x7fedbeb52160>"
      ]
     },
     "metadata": {
      "needs_background": "light"
     },
     "output_type": "display_data"
    },
    {
     "data": {
      "image/png": "[encoded data removed]",
      "text/plain": [
       "<matplotlib.figure.Figure at 0x7fedbd273c88>"
      ]
     },
     "metadata": {
      "needs_background": "light"
     },
     "output_type": "display_data"
    }
   ],
   "source": [
    "#summarize history for accuracy\n",
    "plt.plot(history.history['acc'])\n",
    "plt.plot(history.history['val_acc'])\n",
    "plt.title('model accuracy')\n",
    "plt.ylabel('accuracy')\n",
    "plt.xlabel('epoch')\n",
    "plt.legend(['train', 'validation'],loc='lower right')\n",
    "plt.show()\n",
    "#summarize history for loss\n",
    "plt.plot(history.history['loss'])\n",
    "plt.plot(history.history['val_loss'])\n",
    "plt.title('model_loss')\n",
    "plt.ylabel('loss')\n",
    "plt.xlabel('epoch')\n",
    "plt.legend(['train', 'validation'], loc='upper right')\n",
    "plt.show()"
   ]
  },
  {
   "cell_type": "markdown",
   "metadata": {},
   "source": [
    "Test dataset evaluation and classification report"
   ]
  },
  {
   "cell_type": "code",
   "execution_count": 74,
   "metadata": {},
   "outputs": [
    {
     "name": "stdout",
     "output_type": "stream",
     "text": [
      "accuracy: 0.5673758865248227\n",
      "Precision, Recall and F1-Score:\n",
      "\n",
      "               precision    recall  f1-score   support\n",
      "\n",
      "           0       0.50      0.75      0.60         4\n",
      "           1       0.50      0.40      0.44         5\n",
      "           2       0.50      0.60      0.55         5\n",
      "           3       0.67      1.00      0.80         2\n",
      "           4       0.71      1.00      0.83         5\n",
      "           5       0.25      0.50      0.33         2\n",
      "           6       0.75      0.86      0.80         7\n",
      "           7       1.00      0.60      0.75         5\n",
      "           8       0.25      0.50      0.33         2\n",
      "           9       0.00      0.00      0.00         5\n",
      "          10       0.75      0.75      0.75         4\n",
      "          11       0.00      0.00      0.00         1\n",
      "          12       0.54      0.78      0.64         9\n",
      "          13       0.50      0.25      0.33         4\n",
      "          14       0.60      0.75      0.67         4\n",
      "          15       0.33      0.25      0.29         4\n",
      "          16       0.50      0.17      0.25         6\n",
      "          17       0.33      0.17      0.22         6\n",
      "          18       0.67      0.50      0.57         8\n",
      "          19       1.00      1.00      1.00         3\n",
      "          20       1.00      0.80      0.89         5\n",
      "          21       0.20      0.33      0.25         3\n",
      "          22       0.00      0.00      0.00         2\n",
      "          23       1.00      0.75      0.86         4\n",
      "          24       0.75      0.60      0.67         5\n",
      "          25       0.67      0.50      0.57         4\n",
      "          26       0.80      0.40      0.53        10\n",
      "          27       0.25      0.50      0.33         2\n",
      "          28       0.67      1.00      0.80         4\n",
      "          29       0.67      1.00      0.80         4\n",
      "          30       0.33      0.50      0.40         2\n",
      "          31       0.75      0.60      0.67         5\n",
      "\n",
      "   micro avg       0.57      0.57      0.57       141\n",
      "   macro avg       0.54      0.56      0.53       141\n",
      "weighted avg       0.60      0.57      0.56       141\n",
      "\n"
     ]
    }
   ],
   "source": [
    "#processing text to be compatibel with model input\n",
    "test_sequences = tokenizer.texts_to_sequences(test['Text']) if clean_data == True else tokenizer.texts_to_sequences(test_df['Text'])\n",
    "test_input = pad_sequences(test_sequences, maxlen = max_sequence_length)\n",
    "\n",
    "#Get predictions\n",
    "test_predictions_probs = loaded_model.predict(test_input)\n",
    "test_predictions = test_predictions_probs.argmax(axis=-1)\n",
    "\n",
    "\n",
    "test_intent_predictions = le.inverse_transform(test_predictions)\n",
    "test_intent_original = le.inverse_transform(test_labels)\n",
    "\n",
    "print(f'accuracy: {sum(test_intent_predictions == test_intent_original)/len(test_labels)}')\n",
    "print(\"Precision, Recall and F1-Score:\\n\\n\", classification_report(test_intent_original, test_intent_predictions))"
   ]
  },
  {
   "cell_type": "markdown",
   "metadata": {},
   "source": [
    "test samples prediction sheet"
   ]
  },
  {
   "cell_type": "code",
   "execution_count": 96,
   "metadata": {},
   "outputs": [],
   "source": [
    "if if clean_data == True:\n",
    "    test_df['Predicted_label'] = test_intent_predictions\n",
    "    prediction_flag = [1 if test_df['Label'][i] == test_df['Predicted_label'][i] else 0 for i in range(len(test_df))]\n",
    "    test_df['Prediction_flag'] = prediction_flag\n",
    "\n",
    "    test_df.to_csv('/opt/flask/src/Flask_Core/Nltk/Data/Datasets/'+model_name+'.csv')\n",
    "else:\n",
    "    test['Predicted_label'] = test_intent_predictions\n",
    "    prediction_flag = [1 if test['Label'][i] == test['Predicted_label'][i] else 0 for i in range(len(test))]\n",
    "    test['Prediction_flag'] = prediction_flag\n",
    "\n",
    "    test.to_csv('/opt/flask/src/Flask_Core/Nltk/Data/Datasets/'+model_name+'.csv')\n"
   ]
  },
  {
   "cell_type": "markdown",
   "metadata": {},
   "source": [
    "confusion matrix"
   ]
  },
  {
   "cell_type": "code",
   "execution_count": 97,
   "metadata": {},
   "outputs": [],
   "source": [
    "def plot_confusion_matrix(y_true, y_pred, classes,\n",
    "                          normalize=False,\n",
    "                          title=None,\n",
    "                          cmap=plt.cm.Blues):\n",
    "    \"\"\"\n",
    "    This function prints and plots the confusion matrix.\n",
    "    Normalization can be applied by setting `normalize=True`.\n",
    "    \"\"\"\n",
    "    if not title:\n",
    "        if normalize:\n",
    "            title = 'Normalized confusion matrix'\n",
    "        else:\n",
    "            title = 'Confusion matrix, without normalization'\n",
    "\n",
    "    # Compute confusion matrix\n",
    "    cm = confusion_matrix(y_true, y_pred)\n",
    "    # Only use the labels that appear in the data\n",
    "    classes = classes[unique_labels(y_true, y_pred)]\n",
    "    if normalize:\n",
    "        cm = cm.astype('float') / cm.sum(axis=1)[:, np.newaxis]\n",
    "        print(\"Normalized confusion matrix\")\n",
    "    else:\n",
    "        print('Confusion matrix, without normalization')\n",
    "\n",
    "    #print(cm)\n",
    "\n",
    "    fig, ax = plt.subplots(figsize=(12,12))\n",
    "    im = ax.imshow(cm, interpolation='nearest', cmap=cmap)\n",
    "    ax.figure.colorbar(im, ax=ax)\n",
    "    # We want to show all ticks...\n",
    "    ax.set(xticks=np.arange(cm.shape[1]),\n",
    "           yticks=np.arange(cm.shape[0]),\n",
    "           # ... and label them with the respective list entries\n",
    "           xticklabels=classes, yticklabels=classes,\n",
    "           title=title,\n",
    "           ylabel='True label',\n",
    "           xlabel='Predicted label')\n",
    "\n",
    "    # Rotate the tick labels and set their alignment.\n",
    "    plt.setp(ax.get_xticklabels(), rotation=45, ha=\"right\",\n",
    "             rotation_mode=\"anchor\")\n",
    "\n",
    "    # Loop over data dimensions and create text annotations.\n",
    "    fmt = '.2f' if normalize else 'd'\n",
    "    thresh = cm.max() / 2.\n",
    "    for i in range(cm.shape[0]):\n",
    "        for j in range(cm.shape[1]):\n",
    "            ax.text(j, i, format(cm[i, j], fmt),\n",
    "                    ha=\"center\", va=\"center\",\n",
    "                    color=\"white\" if cm[i, j] > thresh else \"black\")\n",
    "    fig.tight_layout()\n",
    "    return ax"
   ]
  },
  {
   "cell_type": "code",
   "execution_count": 98,
   "metadata": {},
   "outputs": [],
   "source": [
    "class_names, class_count = np.unique(test_df['Label'], return_counts=True) if test is None else np.unique(test['Label'], return_counts=True)"
   ]
  },
  {
   "cell_type": "code",
   "execution_count": 99,
   "metadata": {},
   "outputs": [
    {
     "name": "stdout",
     "output_type": "stream",
     "text": [
      "Confusion matrix, without normalization\n"
     ]
    },
    {
     "data": {
      "image/png": "[encoded data removed]",
      "text/plain": [
       "<matplotlib.figure.Figure at 0x7fbc333bd2b0>"
      ]
     },
     "metadata": {
      "needs_background": "light"
     },
     "output_type": "display_data"
    }
   ],
   "source": [
    "np.set_printoptions(precision=2)\n",
    "# Plot non-normalized confusion matrix\n",
    "plot_confusion_matrix(test_intent_original, test_intent_predictions, classes=class_names,\n",
    "                      title='Confusion matrix, without normalization')\n",
    "\n",
    "# Plot normalized confusion matrix\n",
    "# plot_confusion_matrix(test_intent_original, test_intent_predictions, classes=test_df['String_label'], normalize=True,\n",
    "#                       title='Normalized confusion matrix')\n",
    "\n",
    "plt.show()"
   ]
  },
  {
   "cell_type": "markdown",
   "metadata": {},
   "source": [
    "one sample prediction"
   ]
  },
  {
   "cell_type": "code",
   "execution_count": 7,
   "metadata": {},
   "outputs": [],
   "source": [
    "def single_prediction(inputs, model, tokenizer, encoder, maxlen):\n",
    "    pred_text = tokenizer.texts_to_sequences(inputs)\n",
    "    pred_text = pad_sequences(pred_text, maxlen)\n",
    "    \n",
    "    probability = model.predict(pred_text)\n",
    "    predictions_prob = np.round(probability, 4)\n",
    "    \n",
    "    probability = [v for v in predictions_prob]\n",
    "    \n",
    "    #ipdb.set_trace()\n",
    "    all_ids = list(range(0, len(encoder.classes_)))\n",
    "    return all_ids, probability "
   ]
  },
  {
   "cell_type": "code",
   "execution_count": 9,
   "metadata": {},
   "outputs": [
    {
     "name": "stdout",
     "output_type": "stream",
     "text": [
      "Prediciton for Cleaned Text\n"
     ]
    },
    {
     "ename": "NameError",
     "evalue": "name 'cleaning_text' is not defined",
     "output_type": "error",
     "traceback": [
      "\u001b[0;31m---------------------------------------------------------------------------\u001b[0m",
      "\u001b[0;31mNameError\u001b[0m                                 Traceback (most recent call last)",
      "\u001b[0;32m<ipython-input-9-5535c4d800f9>\u001b[0m in \u001b[0;36m<module>\u001b[0;34m\u001b[0m\n\u001b[1;32m      2\u001b[0m \u001b[0;31m#cleaning one text for prediction\u001b[0m\u001b[0;34m\u001b[0m\u001b[0;34m\u001b[0m\u001b[0;34m\u001b[0m\u001b[0m\n\u001b[1;32m      3\u001b[0m \u001b[0mtext\u001b[0m \u001b[0;34m=\u001b[0m \u001b[0;34m\"Are hoverboard available in Africa?\"\u001b[0m\u001b[0;34m\u001b[0m\u001b[0;34m\u001b[0m\u001b[0m\n\u001b[0;32m----> 4\u001b[0;31m \u001b[0mcleaned_text\u001b[0m \u001b[0;34m=\u001b[0m \u001b[0mcleaning_text\u001b[0m\u001b[0;34m(\u001b[0m\u001b[0mtext\u001b[0m\u001b[0;34m)\u001b[0m\u001b[0;34m\u001b[0m\u001b[0;34m\u001b[0m\u001b[0m\n\u001b[0m\u001b[1;32m      5\u001b[0m \u001b[0;34m\u001b[0m\u001b[0m\n\u001b[1;32m      6\u001b[0m \u001b[0msent\u001b[0m \u001b[0;34m=\u001b[0m \u001b[0;34m[\u001b[0m\u001b[0;34m]\u001b[0m\u001b[0;34m\u001b[0m\u001b[0;34m\u001b[0m\u001b[0m\n",
      "\u001b[0;31mNameError\u001b[0m: name 'cleaning_text' is not defined"
     ]
    }
   ],
   "source": [
    "print('Prediciton for Cleaned Text')\n",
    "#cleaning one text for prediction\n",
    "text = \"Are hoverboard available in Africa?\"\n",
    "cleaned_text = cleaning_text(text)\n",
    "\n",
    "sent = []\n",
    "for row in cleaned_text:\n",
    "    sequ = ''\n",
    "for word in cleaned_text:\n",
    "    #ipdb.set_trace()\n",
    "    sequ = sequ+' '+word\n",
    "sent.append(sequ)\n",
    "\n",
    "predicted_label, predict_proba = single_prediction(sent, loaded_model, pred_tokenizer, le, pred_max_sequence_length)\n",
    "\n",
    "print(f'Predicted probabilities in percentage:\\n{predict_proba}\\n Predicted labels:\\n {predicted_label}')\n",
    "\n",
    "#Sorting Probablity for prediction\n",
    "predicted_probablity = predict_proba[0].tolist()\n",
    "\n",
    "prediction_df = {'Predicted_label':predicted_label, 'predicted_probablity':predicted_probablity}\n",
    "\n",
    "predictions = pd.DataFrame(data=prediction_df, index = None)\n",
    "index_dropped = predictions.set_index('Predicted_label')\n",
    "index_dropped.sort_values(by=['predicted_probablity'], ascending=False)"
   ]
  },
  {
   "cell_type": "code",
   "execution_count": 116,
   "metadata": {},
   "outputs": [
    {
     "name": "stdout",
     "output_type": "stream",
     "text": [
      "Prediction for uncleaned text\n",
      "Predicted probabilities in percentage:\n",
      "[array([1.813e-01, 6.000e-04, 1.110e-02, 1.000e-04, 1.164e-01, 2.100e-03,\n",
      "       8.700e-03, 1.600e-03, 5.400e-03, 1.200e-03, 2.000e-03, 2.200e-03,\n",
      "       1.600e-03, 9.000e-03, 1.520e-02, 2.000e-03, 2.000e-04, 3.410e-02,\n",
      "       1.000e-04, 1.770e-02, 4.300e-03, 1.200e-03, 2.340e-02, 2.300e-03,\n",
      "       3.500e-03, 4.848e-01, 4.490e-02, 1.800e-03, 3.100e-03, 1.240e-02,\n",
      "       4.600e-03, 6.000e-04], dtype=float32)]\n",
      " Predicted labels:\n",
      " [0, 1, 2, 3, 4, 5, 6, 7, 8, 9, 10, 11, 12, 13, 14, 15, 16, 17, 18, 19, 20, 21, 22, 23, 24, 25, 26, 27, 28, 29, 30, 31]\n"
     ]
    },
    {
     "data": {
      "text/html": [
       "<div>\n",
       "<style scoped>\n",
       "    .dataframe tbody tr th:only-of-type {\n",
       "        vertical-align: middle;\n",
       "    }\n",
       "\n",
       "    .dataframe tbody tr th {\n",
       "        vertical-align: top;\n",
       "    }\n",
       "\n",
       "    .dataframe thead th {\n",
       "        text-align: right;\n",
       "    }\n",
       "</style>\n",
       "<table border=\"1\" class=\"dataframe\">\n",
       "  <thead>\n",
       "    <tr style=\"text-align: right;\">\n",
       "      <th></th>\n",
       "      <th>predicted_probablity</th>\n",
       "    </tr>\n",
       "    <tr>\n",
       "      <th>Predicted_label</th>\n",
       "      <th></th>\n",
       "    </tr>\n",
       "  </thead>\n",
       "  <tbody>\n",
       "    <tr>\n",
       "      <th>25</th>\n",
       "      <td>0.4848</td>\n",
       "    </tr>\n",
       "    <tr>\n",
       "      <th>0</th>\n",
       "      <td>0.1813</td>\n",
       "    </tr>\n",
       "    <tr>\n",
       "      <th>4</th>\n",
       "      <td>0.1164</td>\n",
       "    </tr>\n",
       "    <tr>\n",
       "      <th>26</th>\n",
       "      <td>0.0449</td>\n",
       "    </tr>\n",
       "    <tr>\n",
       "      <th>17</th>\n",
       "      <td>0.0341</td>\n",
       "    </tr>\n",
       "    <tr>\n",
       "      <th>22</th>\n",
       "      <td>0.0234</td>\n",
       "    </tr>\n",
       "    <tr>\n",
       "      <th>19</th>\n",
       "      <td>0.0177</td>\n",
       "    </tr>\n",
       "    <tr>\n",
       "      <th>14</th>\n",
       "      <td>0.0152</td>\n",
       "    </tr>\n",
       "    <tr>\n",
       "      <th>29</th>\n",
       "      <td>0.0124</td>\n",
       "    </tr>\n",
       "    <tr>\n",
       "      <th>2</th>\n",
       "      <td>0.0111</td>\n",
       "    </tr>\n",
       "    <tr>\n",
       "      <th>13</th>\n",
       "      <td>0.0090</td>\n",
       "    </tr>\n",
       "    <tr>\n",
       "      <th>6</th>\n",
       "      <td>0.0087</td>\n",
       "    </tr>\n",
       "    <tr>\n",
       "      <th>8</th>\n",
       "      <td>0.0054</td>\n",
       "    </tr>\n",
       "    <tr>\n",
       "      <th>30</th>\n",
       "      <td>0.0046</td>\n",
       "    </tr>\n",
       "    <tr>\n",
       "      <th>20</th>\n",
       "      <td>0.0043</td>\n",
       "    </tr>\n",
       "    <tr>\n",
       "      <th>24</th>\n",
       "      <td>0.0035</td>\n",
       "    </tr>\n",
       "    <tr>\n",
       "      <th>28</th>\n",
       "      <td>0.0031</td>\n",
       "    </tr>\n",
       "    <tr>\n",
       "      <th>23</th>\n",
       "      <td>0.0023</td>\n",
       "    </tr>\n",
       "    <tr>\n",
       "      <th>11</th>\n",
       "      <td>0.0022</td>\n",
       "    </tr>\n",
       "    <tr>\n",
       "      <th>5</th>\n",
       "      <td>0.0021</td>\n",
       "    </tr>\n",
       "    <tr>\n",
       "      <th>10</th>\n",
       "      <td>0.0020</td>\n",
       "    </tr>\n",
       "    <tr>\n",
       "      <th>15</th>\n",
       "      <td>0.0020</td>\n",
       "    </tr>\n",
       "    <tr>\n",
       "      <th>27</th>\n",
       "      <td>0.0018</td>\n",
       "    </tr>\n",
       "    <tr>\n",
       "      <th>12</th>\n",
       "      <td>0.0016</td>\n",
       "    </tr>\n",
       "    <tr>\n",
       "      <th>7</th>\n",
       "      <td>0.0016</td>\n",
       "    </tr>\n",
       "    <tr>\n",
       "      <th>21</th>\n",
       "      <td>0.0012</td>\n",
       "    </tr>\n",
       "    <tr>\n",
       "      <th>9</th>\n",
       "      <td>0.0012</td>\n",
       "    </tr>\n",
       "    <tr>\n",
       "      <th>31</th>\n",
       "      <td>0.0006</td>\n",
       "    </tr>\n",
       "    <tr>\n",
       "      <th>1</th>\n",
       "      <td>0.0006</td>\n",
       "    </tr>\n",
       "    <tr>\n",
       "      <th>16</th>\n",
       "      <td>0.0002</td>\n",
       "    </tr>\n",
       "    <tr>\n",
       "      <th>18</th>\n",
       "      <td>0.0001</td>\n",
       "    </tr>\n",
       "    <tr>\n",
       "      <th>3</th>\n",
       "      <td>0.0001</td>\n",
       "    </tr>\n",
       "  </tbody>\n",
       "</table>\n",
       "</div>"
      ],
      "text/plain": [
       "                 predicted_probablity\n",
       "Predicted_label                      \n",
       "25                             0.4848\n",
       "0                              0.1813\n",
       "4                              0.1164\n",
       "26                             0.0449\n",
       "17                             0.0341\n",
       "22                             0.0234\n",
       "19                             0.0177\n",
       "14                             0.0152\n",
       "29                             0.0124\n",
       "2                              0.0111\n",
       "13                             0.0090\n",
       "6                              0.0087\n",
       "8                              0.0054\n",
       "30                             0.0046\n",
       "20                             0.0043\n",
       "24                             0.0035\n",
       "28                             0.0031\n",
       "23                             0.0023\n",
       "11                             0.0022\n",
       "5                              0.0021\n",
       "10                             0.0020\n",
       "15                             0.0020\n",
       "27                             0.0018\n",
       "12                             0.0016\n",
       "7                              0.0016\n",
       "21                             0.0012\n",
       "9                              0.0012\n",
       "31                             0.0006\n",
       "1                              0.0006\n",
       "16                             0.0002\n",
       "18                             0.0001\n",
       "3                              0.0001"
      ]
     },
     "execution_count": 116,
     "metadata": {},
     "output_type": "execute_result"
    }
   ],
   "source": [
    "print('Prediction for uncleaned text')\n",
    "#uncleaned prediction for single text\n",
    "predicted_label, predict_proba = single_prediction([\"15 kmph? What a joke. My grandfather moves faster.\"], loaded_model, pred_tokenizer, pred_le, pred_max_sequence_length)\n",
    "\n",
    "print(f'Predicted probabilities in percentage:\\n{predict_proba}\\n Predicted labels:\\n {predicted_label}')\n",
    "\n",
    "#Sorting Probablity for prediction\n",
    "predicted_probablity = predict_proba[0].tolist()\n",
    "\n",
    "prediction_df = {'Predicted_label':predicted_label, 'predicted_probablity':predicted_probablity}\n",
    "\n",
    "predictions = pd.DataFrame(data=prediction_df, index = None)\n",
    "index_dropped = predictions.set_index('Predicted_label')\n",
    "index_dropped.sort_values(by=['predicted_probablity'], ascending=False)"
   ]
  },
  {
   "cell_type": "code",
   "execution_count": null,
   "metadata": {},
   "outputs": [],
   "source": []
  }
 ],
 "metadata": {
  "kernelspec": {
   "display_name": "Python 3",
   "language": "python",
   "name": "python3"
  },
  "language_info": {
   "codemirror_mode": {
    "name": "ipython",
    "version": 3
   },
   "file_extension": ".py",
   "mimetype": "text/x-python",
   "name": "python",
   "nbconvert_exporter": "python",
   "pygments_lexer": "ipython3",
   "version": "3.6.7"
  }
 },
 "nbformat": 4,
 "nbformat_minor": 2
}
