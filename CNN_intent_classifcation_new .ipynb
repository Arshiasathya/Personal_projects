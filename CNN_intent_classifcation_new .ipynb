{
 "cells": [
  {
   "cell_type": "code",
   "execution_count": 1,
   "metadata": {},
   "outputs": [
    {
     "name": "stderr",
     "output_type": "stream",
     "text": [
      "Using TensorFlow backend.\n"
     ]
    }
   ],
   "source": [
    "import os\n",
    "import sys\n",
    "import numpy as np\n",
    "import matplotlib.pyplot as plt\n",
    "%matplotlib inline\n",
    "import pandas as pd\n",
    "#import ipdb\n",
    "import pickle\n",
    "\n",
    "from sklearn.model_selection import train_test_split\n",
    "from sklearn import preprocessing\n",
    "from sklearn.metrics import confusion_matrix\n",
    "from sklearn.utils.multiclass import unique_labels\n",
    "from sklearn.metrics import classification_report \n",
    "\n",
    "from keras.preprocessing.text import Tokenizer\n",
    "from keras.preprocessing.sequence import pad_sequences\n",
    "from keras.utils import to_categorical\n",
    "from keras.layers import Dense\n",
    "from keras.layers import Input\n",
    "from keras.layers import Flatten\n",
    "from keras import metrics\n",
    "from keras.layers import Reshape, Dropout, Concatenate, BatchNormalization, Activation\n",
    "from keras.layers import Conv2D, MaxPool2D, Embedding, GlobalMaxPool2D\n",
    "from keras.models import Model, load_model\n",
    "from keras import backend as K\n",
    "\n",
    "from gensim.models.keyedvectors import KeyedVectors"
   ]
  },
  {
   "cell_type": "markdown",
   "metadata": {},
   "source": [
    "Data Cleaning Imports"
   ]
  },
  {
   "cell_type": "code",
   "execution_count": 2,
   "metadata": {},
   "outputs": [],
   "source": [
    "import re, string, unicodedata\n",
    "import nltk \n",
    "import contractions\n",
    "import inflect \n",
    "from nltk import word_tokenize, sent_tokenize\n",
    "from nltk.corpus import stopwords\n",
    "from nltk.stem import WordNetLemmatizer\n",
    "import regex"
   ]
  },
  {
   "cell_type": "code",
   "execution_count": 3,
   "metadata": {},
   "outputs": [],
   "source": [
    "embedding_dir = '/opt/flask/src/Flask_Core/Nltk/Data/flaskwordembeddings'\n",
    "max_sequence_length = 60\n",
    "vocabulary_size = 30000\n",
    "embedding_dim = 300\n",
    "clean_data = False"
   ]
  },
  {
   "cell_type": "markdown",
   "metadata": {},
   "source": [
    "Loading Data"
   ]
  },
  {
   "cell_type": "code",
   "execution_count": 4,
   "metadata": {},
   "outputs": [],
   "source": [
    "train_df = pd.read_csv('/opt/flask/src/Flask_Core/Nltk/Data/Datasets/train_full_training_datathon3_5_70_percent_monday_loop.csv')\n",
    "validation_df = pd.read_csv('/opt/flask/src/Flask_Core/Nltk/Data/Datasets/thirty_percent_for_testing_data.csv')\n",
    "test_df = pd.read_csv('/opt/flask/src/Flask_Core/Nltk/Data/Datasets/thirty_percent_for_testing_data.csv')"
   ]
  },
  {
   "cell_type": "code",
   "execution_count": 5,
   "metadata": {},
   "outputs": [
    {
     "name": "stdout",
     "output_type": "stream",
     "text": [
      "length of training data Before cleaning:2457\n",
      "length of validation data Before Cleaning:141\n",
      "length of test data Before Cleaning:141\n"
     ]
    }
   ],
   "source": [
    "print(f'length of training data Before cleaning:{len(train_df)}')\n",
    "print(f'length of validation data Before Cleaning:{len(validation_df)}')\n",
    "print(f'length of test data Before Cleaning:{len(test_df)}')"
   ]
  },
  {
   "cell_type": "markdown",
   "metadata": {},
   "source": [
    "Data Cleaning"
   ]
  },
  {
   "cell_type": "code",
   "execution_count": null,
   "metadata": {},
   "outputs": [],
   "source": [
    "def tokenize(text):\n",
    "    tokens = nltk.word_tokenize(text)\n",
    "    return tokens\n",
    "\n",
    "def remove_non_ascii(words):\n",
    "    \"\"\"Remove the non ascii characters from list of tokenized words\"\"\"\n",
    "    non_ascii_removed = []\n",
    "    for word in words:\n",
    "        new_word = unicodedata.normalize('NFKD', word).encode('ascii', 'ignore').decode('utf-8', 'ignore')\n",
    "        non_ascii_removed.append(new_word)\n",
    "    return non_ascii_removed\n",
    "\n",
    "def to_lowercase(words):\n",
    "    \"\"\"Convert all characters to lowercase from list of tokenized words\"\"\"\n",
    "    lower_cased = []\n",
    "    for word in words:\n",
    "        new_word = word.lower()\n",
    "        lower_cased.append(new_word)\n",
    "    return lower_cased\n",
    "\n",
    "def remove_punctuations(words):\n",
    "    \"\"\"Remove punctuation from list of tokenized words\"\"\"\n",
    "    punctuation_removed = []\n",
    "    for word in words:\n",
    "        new_word = re.sub(r'[^\\w\\s]', '', word)\n",
    "        if new_word != '':\n",
    "            punctuation_removed.append(new_word)\n",
    "    return punctuation_removed\n",
    "\n",
    "def replace_number(words):\n",
    "    \"\"\"Replace all integer occurances in the list of tokenized words with textual representation\"\"\"\n",
    "    p = inflect.engine()\n",
    "    number_replaced = []\n",
    "    for word in words:\n",
    "        if word.isdigit():\n",
    "            new_word = p.number_to_words(word)\n",
    "            number_replaced.append(new_word)\n",
    "        else:\n",
    "            number_replaced.append(word)\n",
    "    return number_replaced\n",
    "\n",
    "def remove_stopwords(words):\n",
    "    \"\"\"Remove stop words from list of tokenized words\"\"\"\n",
    "    stopwords_removed = []\n",
    "    for word in words:\n",
    "        if word not in stopwords.words('english'):\n",
    "            stopwords_removed.append(word)\n",
    "    return stopwords_removed\n",
    "\n",
    "def lemmatize_words(words):\n",
    "    \"\"\"lemmatize verbs in list of tokenized words\"\"\"\n",
    "    lemmatizer = WordNetLemmatizer()\n",
    "    lemmas = []\n",
    "    for word in words:\n",
    "        lemma = lemmatizer.lemmatize(word, pos='v')\n",
    "        lemmas.append(lemma)\n",
    "    return lemmas\n",
    "\n",
    "def remove_emai_phone(words):\n",
    "    \"\"\"remove the email and phone number\"\"\"\n",
    "    email_phone_removed = []\n",
    "    for word in words:\n",
    "        #ipdb.set_trace()\n",
    "        phone_removed = re.sub(r'[a-z0-9\\.\\-+_]+@[a-z0-9\\.\\-+_]+\\.[a-z]+','',word)\n",
    "        removed = re.sub(r'\\S*7\\S*\\s?','',phone_removed)\n",
    "        fax_removal = re.sub(r'\\S*fax\\S*\\s?','',removed)\n",
    "        cell_removal = re.sub(r'\\S*cell\\S*\\s?','',fax_removal)\n",
    "        final_remove = re.sub(r'\\\"intouch\\:[0-9a-zA-Z\\@\\.]{1,}\\\"','',cell_removal)\n",
    "        email_phone_removed.append(final_remove)\n",
    "    return email_phone_removed\n",
    "\n",
    "def cleaning_text(text):\n",
    "    tokens = tokenize(text)\n",
    "    non_ascii_removed = remove_non_ascii(tokens)\n",
    "    lower_cased_words = to_lowercase(non_ascii_removed)\n",
    "    remove_punctuation = remove_punctuations(lower_cased_words)\n",
    "    numbers_replaced = replace_number(remove_punctuation)\n",
    "    stopwords_removed = remove_stopwords(numbers_replaced)\n",
    "    lemmatized_words = lemmatize_words(stopwords_removed)\n",
    "    email_ph_removed = remove_emai_phone(lemmatized_words)\n",
    "    return email_ph_removed"
   ]
  },
  {
   "cell_type": "code",
   "execution_count": null,
   "metadata": {},
   "outputs": [],
   "source": [
    "#training data cleaning\n",
    "sent = []\n",
    "for text in train_df['Text']:\n",
    "    cleaned_text = cleaning_text(text)\n",
    "    for row in cleaned_text:\n",
    "        sequ = ''\n",
    "    for word in cleaned_text:\n",
    "        #ipdb.set_trace()\n",
    "        sequ = sequ+' '+word\n",
    "    sent.append(sequ)"
   ]
  },
  {
   "cell_type": "code",
   "execution_count": null,
   "metadata": {},
   "outputs": [],
   "source": [
    "#Creating training dataframe\n",
    "d = {'Text':sent, 'Label':train_df['Label']}\n",
    "train = pd.DataFrame(d, index=None)"
   ]
  },
  {
   "cell_type": "code",
   "execution_count": null,
   "metadata": {},
   "outputs": [],
   "source": [
    "#validation data cleaning\n",
    "sent = []\n",
    "for text in validation_df['Sample']:\n",
    "    cleaned_text = cleaning_text(text)\n",
    "    for row in cleaned_text:\n",
    "        sequ = ''\n",
    "    for word in cleaned_text:\n",
    "        #ipdb.set_trace()\n",
    "        sequ = sequ+' '+word\n",
    "    sent.append(sequ)"
   ]
  },
  {
   "cell_type": "code",
   "execution_count": null,
   "metadata": {},
   "outputs": [],
   "source": [
    "#Creating validation dataframe\n",
    "d = {'Text':sent, 'Label':validation_df['Label']}\n",
    "valid = pd.DataFrame(d, index=None)"
   ]
  },
  {
   "cell_type": "code",
   "execution_count": null,
   "metadata": {},
   "outputs": [],
   "source": [
    "#testing data cleaning\n",
    "sent = []\n",
    "for text in test_df['Sample']:\n",
    "    cleaned_text = cleaning_text(text)\n",
    "    for row in cleaned_text:\n",
    "        sequ = ''\n",
    "    for word in cleaned_text:\n",
    "        #ipdb.set_trace()\n",
    "        sequ = sequ+' '+word\n",
    "    sent.append(sequ)"
   ]
  },
  {
   "cell_type": "code",
   "execution_count": null,
   "metadata": {},
   "outputs": [],
   "source": [
    "#Creating test dataframe\n",
    "d = {'Text':sent, 'Label':test_df['Label']}\n",
    "test = pd.DataFrame(d, index=None)"
   ]
  },
  {
   "cell_type": "code",
   "execution_count": null,
   "metadata": {},
   "outputs": [],
   "source": [
    "print(f'length of training data Before cleaning:{len(train)}')\n",
    "print(f'length of validation data Before Cleaning:{len(valid)}')\n",
    "print(f'length of test data Before Cleaning:{len(test)}')"
   ]
  },
  {
   "cell_type": "code",
   "execution_count": 6,
   "metadata": {},
   "outputs": [
    {
     "name": "stdout",
     "output_type": "stream",
     "text": [
      "{0: 0, 1: 1, 2: 2, 3: 3, 4: 4, 5: 5, 6: 6, 7: 7, 8: 8, 9: 9, 10: 10, 11: 11, 12: 12, 13: 13, 14: 14, 15: 15, 16: 16, 17: 17, 18: 18, 19: 19, 20: 20, 21: 21, 22: 22, 23: 23, 24: 24, 25: 25, 26: 26, 27: 27, 28: 28, 29: 29, 30: 30, 31: 31}\n"
     ]
    }
   ],
   "source": [
    "le = preprocessing.LabelEncoder()\n",
    "\n",
    "train_labels = le.fit_transform(train['Label']) if clean_data == True else le.fit_transform(train_df['Label'])\n",
    "\n",
    "validation_labels = le.transform(valid['Label']) if clean_data == True else le.transform(validation_df['Label'])\n",
    "\n",
    "test_labels = le.transform(test['Label']) if clean_data == True else le.transform(test_df['Label'])\n",
    "\n",
    "label_dict = dict(zip(list(le.classes_), le.transform(list(le.classes_))))\n",
    "print(label_dict)\n",
    "\n",
    "num_classes = len(le.classes_)"
   ]
  },
  {
   "cell_type": "markdown",
   "metadata": {},
   "source": [
    "Toeknizing tex and creating word index"
   ]
  },
  {
   "cell_type": "code",
   "execution_count": 7,
   "metadata": {},
   "outputs": [
    {
     "name": "stdout",
     "output_type": "stream",
     "text": [
      "Found 2687 unique tokens.\n",
      "Shape of training data tensor: (2457, 60)\n",
      "Shape of training label tensor: (2457, 32)\n",
      "Shape of validation tensor: (141, 60)\n",
      "shape of valid label tensor: (141, 32)\n",
      "Preparing embedding matrix.\n"
     ]
    }
   ],
   "source": [
    "tokenizer = Tokenizer(num_words=vocabulary_size)\n",
    "tokenizer.fit_on_texts(train['Text']) if clean_data == True else tokenizer.fit_on_texts(train_df['Text'])\n",
    "#ipdb.set_trace()\n",
    "train_sequences = tokenizer.texts_to_sequences(train['Text']) if clean_data == True else tokenizer.texts_to_sequences(train_df['Text'])\n",
    "validation_sequences = tokenizer.texts_to_sequences(valid['Text']) if clean_data == True else tokenizer.texts_to_sequences(validation_df['Text'])\n",
    "\n",
    "\n",
    "word_index = tokenizer.word_index\n",
    "print('Found %s unique tokens.' % len(word_index))\n",
    "\n",
    "training_data = pad_sequences(train_sequences, maxlen=max_sequence_length)\n",
    "valid_data = pad_sequences(validation_sequences, maxlen=max_sequence_length)\n",
    "\n",
    "training_labels = to_categorical(np.asarray(train_labels))\n",
    "valid_labels = to_categorical(np.asarray(validation_labels))\n",
    "\n",
    "\n",
    "print('Shape of training data tensor:', training_data.shape)\n",
    "print('Shape of training label tensor:', training_labels.shape)\n",
    "print('Shape of validation tensor:', valid_data.shape)\n",
    "print('shape of valid label tensor:',valid_labels.shape )\n",
    "\n",
    "print('Preparing embedding matrix.')"
   ]
  },
  {
   "cell_type": "markdown",
   "metadata": {},
   "source": [
    "Creating embedding matrix from Word2vec"
   ]
  },
  {
   "cell_type": "code",
   "execution_count": 8,
   "metadata": {},
   "outputs": [
    {
     "name": "stdout",
     "output_type": "stream",
     "text": [
      "Indexing word vectors.\n",
      "Found 3000000 word vectors.\n"
     ]
    }
   ],
   "source": [
    "embed_model = KeyedVectors.load_word2vec_format('/opt/flask/src/Flask_Core/Nltk/Data/flaskwordembeddings/word2vec.100B.300d.bin', binary=True)\n",
    "\n",
    "embed_model_txt = embed_model.save_word2vec_format('/opt/flask/src/Flask_Core/Nltk/Data/flaskwordembeddings/word2vec.100B.300d.txt', binary=False)\n",
    "\n",
    "print('Indexing word vectors.')\n",
    "\n",
    "embeddings_index = {}\n",
    "f = open(os.path.join(embedding_dir, 'word2vec.100B.300d.txt'), encoding='utf-8')\n",
    "for line in f:\n",
    "    values = line.split()\n",
    "    word = values[0]\n",
    "    coefs = np.asarray(values[1:], dtype='float32')\n",
    "    embeddings_index[word] = coefs\n",
    "f.close()\n",
    "\n",
    "print('Found %s word vectors.' % len(embeddings_index))"
   ]
  },
  {
   "cell_type": "code",
   "execution_count": 9,
   "metadata": {},
   "outputs": [],
   "source": [
    "num_words = min(vocabulary_size, len(word_index))\n",
    "embedding_matrix = np.zeros((len(word_index) + 1, embedding_dim))\n",
    "for word, i in word_index.items():\n",
    "    embedding_vector = embeddings_index.get(word)\n",
    "    if embedding_vector is not None:\n",
    "        # words not found in embedding index will be all-zeros.\n",
    "        embedding_matrix[i] = embedding_vector"
   ]
  },
  {
   "cell_type": "markdown",
   "metadata": {},
   "source": [
    "Model"
   ]
  },
  {
   "cell_type": "code",
   "execution_count": 13,
   "metadata": {},
   "outputs": [
    {
     "name": "stdout",
     "output_type": "stream",
     "text": [
      "Creating Model...\n",
      "__________________________________________________________________________________________________\n",
      "Layer (type)                    Output Shape         Param #     Connected to                     \n",
      "==================================================================================================\n",
      "input_4 (InputLayer)            (None, 60)           0                                            \n",
      "__________________________________________________________________________________________________\n",
      "embedding_4 (Embedding)         (None, 60, 300)      806400      input_4[0][0]                    \n",
      "__________________________________________________________________________________________________\n",
      "reshape_4 (Reshape)             (None, 60, 300, 1)   0           embedding_4[0][0]                \n",
      "__________________________________________________________________________________________________\n",
      "conv2d_10 (Conv2D)              (None, 58, 1, 128)   115328      reshape_4[0][0]                  \n",
      "__________________________________________________________________________________________________\n",
      "conv2d_11 (Conv2D)              (None, 58, 1, 128)   115328      reshape_4[0][0]                  \n",
      "__________________________________________________________________________________________________\n",
      "conv2d_12 (Conv2D)              (None, 58, 1, 128)   115328      reshape_4[0][0]                  \n",
      "__________________________________________________________________________________________________\n",
      "max_pooling2d_10 (MaxPooling2D) (None, 1, 1, 128)    0           conv2d_10[0][0]                  \n",
      "__________________________________________________________________________________________________\n",
      "max_pooling2d_11 (MaxPooling2D) (None, 1, 1, 128)    0           conv2d_11[0][0]                  \n",
      "__________________________________________________________________________________________________\n",
      "max_pooling2d_12 (MaxPooling2D) (None, 1, 1, 128)    0           conv2d_12[0][0]                  \n",
      "__________________________________________________________________________________________________\n",
      "concatenate_4 (Concatenate)     (None, 3, 1, 128)    0           max_pooling2d_10[0][0]           \n",
      "                                                                 max_pooling2d_11[0][0]           \n",
      "                                                                 max_pooling2d_12[0][0]           \n",
      "__________________________________________________________________________________________________\n",
      "flatten_4 (Flatten)             (None, 384)          0           concatenate_4[0][0]              \n",
      "__________________________________________________________________________________________________\n",
      "activation_7 (Activation)       (None, 384)          0           flatten_4[0][0]                  \n",
      "__________________________________________________________________________________________________\n",
      "dropout_7 (Dropout)             (None, 384)          0           activation_7[0][0]               \n",
      "__________________________________________________________________________________________________\n",
      "dense_7 (Dense)                 (None, 128)          49280       dropout_7[0][0]                  \n",
      "__________________________________________________________________________________________________\n",
      "activation_8 (Activation)       (None, 128)          0           dense_7[0][0]                    \n",
      "__________________________________________________________________________________________________\n",
      "dropout_8 (Dropout)             (None, 128)          0           activation_8[0][0]               \n",
      "__________________________________________________________________________________________________\n",
      "dense_8 (Dense)                 (None, 32)           4128        dropout_8[0][0]                  \n",
      "==================================================================================================\n",
      "Total params: 1,205,792\n",
      "Trainable params: 399,392\n",
      "Non-trainable params: 806,400\n",
      "__________________________________________________________________________________________________\n"
     ]
    }
   ],
   "source": [
    "kernel_sizes = [3,3,3]\n",
    "num_kernels = 128\n",
    "dropout_rate = 0.8\n",
    "num_dense_nodes = 128\n",
    "\n",
    "print(\"Creating Model...\")\n",
    "inputs = Input(shape=(max_sequence_length,), dtype='int32')\n",
    "embedding = Embedding(input_dim=len(word_index) + 1, output_dim=embedding_dim, weights=[embedding_matrix],\n",
    "                      input_length=max_sequence_length, trainable=False)(inputs)\n",
    "reshape = Reshape((max_sequence_length,embedding_dim,1))(embedding)\n",
    "\n",
    "conv_0 = Conv2D(num_kernels, kernel_size=(kernel_sizes[0], embedding_dim), padding='valid', kernel_initializer='normal', activation='relu')(reshape)\n",
    "conv_1 = Conv2D(num_kernels, kernel_size=(kernel_sizes[1], embedding_dim), padding='valid', kernel_initializer='normal', activation='relu')(reshape)\n",
    "conv_2 = Conv2D(num_kernels, kernel_size=(kernel_sizes[2], embedding_dim), padding='valid', kernel_initializer='normal', activation='relu')(reshape)\n",
    "\n",
    "\n",
    "# maxpool_0 = GlobalMaxPool2D()(conv_0)\n",
    "# maxpool_1 = GlobalMaxPool2D()(conv_1)\n",
    "# maxpool_2 = GlobalMaxPool2D()(conv_2)\n",
    "maxpool_0 = MaxPool2D(pool_size=(max_sequence_length - kernel_sizes[0] + 1, 1), strides=(1,1), padding='valid')(conv_0)\n",
    "maxpool_1 = MaxPool2D(pool_size=(max_sequence_length - kernel_sizes[1] + 1, 1), strides=(1,1), padding='valid')(conv_1)\n",
    "maxpool_2 = MaxPool2D(pool_size=(max_sequence_length - kernel_sizes[2] + 1, 1), strides=(1,1), padding='valid')(conv_2)\n",
    "\n",
    "concatenated_tensor = Concatenate(axis=1)([maxpool_0, maxpool_1, maxpool_2])\n",
    "flatten = Flatten()(concatenated_tensor)\n",
    "#batch_norm = BatchNormalization()(flatten)\n",
    "batch_norm_1 = Activation('relu')(flatten)\n",
    "dropout = Dropout(dropout_rate)(batch_norm_1)\n",
    "dense = Dense(units=num_dense_nodes, activation='relu')(dropout)\n",
    "#batch_norm_0 = BatchNormalization()(dense)\n",
    "batch_norm_0 = Activation('relu')(dense)\n",
    "dropout = Dropout(0.3)(batch_norm_0)\n",
    "output = Dense(len(label_dict), activation='softmax')(dropout)\n",
    "\n",
    "# this creates a model that includes inputs and outputs\n",
    "model = Model(inputs=inputs, outputs=output)\n",
    "\n",
    "model.compile(loss='categorical_crossentropy',\n",
    "              optimizer='adam',\n",
    "              metrics=['acc'])\n",
    "\n",
    "model.summary()"
   ]
  },
  {
   "cell_type": "code",
   "execution_count": 14,
   "metadata": {},
   "outputs": [],
   "source": [
    "model_name = 'test_model_Jeremy_params'\n",
    "saving_path = '/opt/flask/src/Flask_Core/Nltk/Data/TrainedModels/'"
   ]
  },
  {
   "cell_type": "code",
   "execution_count": 15,
   "metadata": {},
   "outputs": [
    {
     "name": "stdout",
     "output_type": "stream",
     "text": [
      "Train on 2457 samples, validate on 141 samples\n",
      "Epoch 1/75\n",
      "2457/2457 [==============================] - 2s 987us/step - loss: 3.5363 - acc: 0.0444 - val_loss: 3.4214 - val_acc: 0.0993\n",
      "Epoch 2/75\n",
      "2457/2457 [==============================] - 1s 344us/step - loss: 3.3475 - acc: 0.0899 - val_loss: 3.2301 - val_acc: 0.1844\n",
      "Epoch 3/75\n",
      "2457/2457 [==============================] - 1s 351us/step - loss: 3.0643 - acc: 0.1693 - val_loss: 2.8248 - val_acc: 0.3475\n",
      "Epoch 4/75\n",
      "2457/2457 [==============================] - 1s 351us/step - loss: 2.6984 - acc: 0.2662 - val_loss: 2.4385 - val_acc: 0.4397\n",
      "Epoch 5/75\n",
      "2457/2457 [==============================] - 1s 360us/step - loss: 2.3805 - acc: 0.3484 - val_loss: 2.1865 - val_acc: 0.4610\n",
      "Epoch 6/75\n",
      "2457/2457 [==============================] - 1s 358us/step - loss: 2.0839 - acc: 0.4184 - val_loss: 1.9942 - val_acc: 0.4894\n",
      "Epoch 7/75\n",
      "2457/2457 [==============================] - 1s 352us/step - loss: 1.9038 - acc: 0.4554 - val_loss: 1.8995 - val_acc: 0.5035\n",
      "Epoch 8/75\n",
      "2457/2457 [==============================] - 1s 347us/step - loss: 1.7463 - acc: 0.5063 - val_loss: 1.7549 - val_acc: 0.5177\n",
      "Epoch 9/75\n",
      "2457/2457 [==============================] - 1s 353us/step - loss: 1.6231 - acc: 0.5307 - val_loss: 1.7148 - val_acc: 0.5390\n",
      "Epoch 10/75\n",
      "2457/2457 [==============================] - 1s 362us/step - loss: 1.5020 - acc: 0.5560 - val_loss: 1.6476 - val_acc: 0.5745\n",
      "Epoch 11/75\n",
      "2457/2457 [==============================] - 1s 347us/step - loss: 1.4130 - acc: 0.5995 - val_loss: 1.6242 - val_acc: 0.5674\n",
      "Epoch 12/75\n",
      "2457/2457 [==============================] - 1s 352us/step - loss: 1.3268 - acc: 0.6170 - val_loss: 1.5934 - val_acc: 0.5816\n",
      "Epoch 13/75\n",
      "2457/2457 [==============================] - 1s 350us/step - loss: 1.2930 - acc: 0.6166 - val_loss: 1.6201 - val_acc: 0.5603\n",
      "Epoch 14/75\n",
      "2457/2457 [==============================] - 1s 346us/step - loss: 1.2147 - acc: 0.6471 - val_loss: 1.6299 - val_acc: 0.5887\n",
      "Epoch 15/75\n",
      "2457/2457 [==============================] - 1s 346us/step - loss: 1.1258 - acc: 0.6642 - val_loss: 1.5840 - val_acc: 0.5887\n",
      "Epoch 16/75\n",
      "2457/2457 [==============================] - 1s 350us/step - loss: 1.1139 - acc: 0.6630 - val_loss: 1.5764 - val_acc: 0.5674\n",
      "Epoch 17/75\n",
      "2457/2457 [==============================] - 1s 351us/step - loss: 1.0860 - acc: 0.6789 - val_loss: 1.6017 - val_acc: 0.5816\n",
      "Epoch 18/75\n",
      "2457/2457 [==============================] - 1s 350us/step - loss: 1.0325 - acc: 0.6976 - val_loss: 1.6372 - val_acc: 0.5390\n",
      "Epoch 19/75\n",
      "2457/2457 [==============================] - 1s 356us/step - loss: 0.9847 - acc: 0.7086 - val_loss: 1.6579 - val_acc: 0.5816\n",
      "Epoch 20/75\n",
      "2457/2457 [==============================] - 1s 352us/step - loss: 0.9714 - acc: 0.7135 - val_loss: 1.5884 - val_acc: 0.5674\n",
      "Epoch 21/75\n",
      "2457/2457 [==============================] - 1s 350us/step - loss: 0.9039 - acc: 0.7257 - val_loss: 1.5608 - val_acc: 0.5816\n",
      "Epoch 22/75\n",
      "2457/2457 [==============================] - 1s 356us/step - loss: 0.9068 - acc: 0.7310 - val_loss: 1.5830 - val_acc: 0.5674\n",
      "Epoch 23/75\n",
      "2457/2457 [==============================] - 1s 346us/step - loss: 0.8462 - acc: 0.7420 - val_loss: 1.6219 - val_acc: 0.5532\n",
      "Epoch 24/75\n",
      "2457/2457 [==============================] - 1s 339us/step - loss: 0.8456 - acc: 0.7509 - val_loss: 1.6293 - val_acc: 0.5745\n",
      "Epoch 25/75\n",
      "2457/2457 [==============================] - 1s 345us/step - loss: 0.8025 - acc: 0.7603 - val_loss: 1.6563 - val_acc: 0.5532\n",
      "Epoch 26/75\n",
      "2457/2457 [==============================] - 1s 360us/step - loss: 0.7986 - acc: 0.7591 - val_loss: 1.6212 - val_acc: 0.5603\n",
      "Epoch 27/75\n",
      "2457/2457 [==============================] - 1s 361us/step - loss: 0.7516 - acc: 0.7749 - val_loss: 1.6873 - val_acc: 0.5816\n",
      "Epoch 28/75\n",
      "2457/2457 [==============================] - 1s 357us/step - loss: 0.7219 - acc: 0.7831 - val_loss: 1.6274 - val_acc: 0.5674\n",
      "Epoch 29/75\n",
      "2457/2457 [==============================] - 1s 348us/step - loss: 0.7224 - acc: 0.7790 - val_loss: 1.6636 - val_acc: 0.5390\n",
      "Epoch 30/75\n",
      "2457/2457 [==============================] - 1s 347us/step - loss: 0.6976 - acc: 0.7875 - val_loss: 1.6860 - val_acc: 0.5674\n",
      "Epoch 31/75\n",
      "2457/2457 [==============================] - 1s 351us/step - loss: 0.6761 - acc: 0.7961 - val_loss: 1.6838 - val_acc: 0.5461\n",
      "Epoch 32/75\n",
      "2457/2457 [==============================] - 1s 361us/step - loss: 0.7158 - acc: 0.7802 - val_loss: 1.6944 - val_acc: 0.5532\n",
      "Epoch 33/75\n",
      "2457/2457 [==============================] - 1s 354us/step - loss: 0.6614 - acc: 0.8091 - val_loss: 1.7043 - val_acc: 0.5532\n",
      "Epoch 34/75\n",
      "2457/2457 [==============================] - 1s 344us/step - loss: 0.6881 - acc: 0.7904 - val_loss: 1.6778 - val_acc: 0.5319\n",
      "Epoch 35/75\n",
      "2457/2457 [==============================] - 1s 353us/step - loss: 0.6626 - acc: 0.7912 - val_loss: 1.7196 - val_acc: 0.5674\n",
      "Epoch 36/75\n",
      "2457/2457 [==============================] - 1s 349us/step - loss: 0.6636 - acc: 0.7993 - val_loss: 1.7469 - val_acc: 0.5390\n",
      "Epoch 37/75\n",
      "2457/2457 [==============================] - 1s 345us/step - loss: 0.6159 - acc: 0.8136 - val_loss: 1.7604 - val_acc: 0.5319\n",
      "Epoch 38/75\n",
      "2457/2457 [==============================] - 1s 351us/step - loss: 0.6183 - acc: 0.8083 - val_loss: 1.6667 - val_acc: 0.5674\n",
      "Epoch 39/75\n",
      "2457/2457 [==============================] - 1s 347us/step - loss: 0.5709 - acc: 0.8274 - val_loss: 1.6973 - val_acc: 0.5745\n",
      "Epoch 40/75\n",
      "2457/2457 [==============================] - 1s 349us/step - loss: 0.5535 - acc: 0.8225 - val_loss: 1.7231 - val_acc: 0.5674\n",
      "Epoch 41/75\n",
      "2457/2457 [==============================] - 1s 353us/step - loss: 0.6013 - acc: 0.8189 - val_loss: 1.7469 - val_acc: 0.5532\n",
      "Epoch 42/75\n",
      "2457/2457 [==============================] - 1s 355us/step - loss: 0.5363 - acc: 0.8335 - val_loss: 1.7589 - val_acc: 0.5603\n",
      "Epoch 43/75\n",
      "2457/2457 [==============================] - 1s 354us/step - loss: 0.5774 - acc: 0.8242 - val_loss: 1.7549 - val_acc: 0.5532\n",
      "Epoch 44/75\n",
      "2457/2457 [==============================] - 1s 359us/step - loss: 0.5292 - acc: 0.8258 - val_loss: 1.7685 - val_acc: 0.5816\n",
      "Epoch 45/75\n",
      "2457/2457 [==============================] - 1s 354us/step - loss: 0.5490 - acc: 0.8262 - val_loss: 1.7292 - val_acc: 0.5319\n",
      "Epoch 46/75\n",
      "2457/2457 [==============================] - 1s 355us/step - loss: 0.5188 - acc: 0.8352 - val_loss: 1.7926 - val_acc: 0.5390\n",
      "Epoch 47/75\n",
      "2457/2457 [==============================] - 1s 349us/step - loss: 0.5158 - acc: 0.8352 - val_loss: 1.8007 - val_acc: 0.5816\n",
      "Epoch 48/75\n",
      "2457/2457 [==============================] - 1s 346us/step - loss: 0.5113 - acc: 0.8356 - val_loss: 1.7733 - val_acc: 0.5887\n",
      "Epoch 49/75\n",
      "2457/2457 [==============================] - 1s 352us/step - loss: 0.5114 - acc: 0.8376 - val_loss: 1.8180 - val_acc: 0.5532\n",
      "Epoch 50/75\n",
      "2457/2457 [==============================] - 1s 352us/step - loss: 0.4787 - acc: 0.8502 - val_loss: 1.8529 - val_acc: 0.5390\n",
      "Epoch 51/75\n",
      "2457/2457 [==============================] - 1s 352us/step - loss: 0.5097 - acc: 0.8425 - val_loss: 1.8250 - val_acc: 0.5390\n",
      "Epoch 52/75\n",
      "2457/2457 [==============================] - 1s 358us/step - loss: 0.4908 - acc: 0.8392 - val_loss: 1.8638 - val_acc: 0.5390\n",
      "Epoch 53/75\n",
      "2457/2457 [==============================] - 1s 355us/step - loss: 0.4922 - acc: 0.8453 - val_loss: 1.7647 - val_acc: 0.5745\n",
      "Epoch 54/75\n",
      "2457/2457 [==============================] - 1s 349us/step - loss: 0.4727 - acc: 0.8563 - val_loss: 1.8073 - val_acc: 0.5745\n",
      "Epoch 55/75\n",
      "2457/2457 [==============================] - 1s 354us/step - loss: 0.4874 - acc: 0.8535 - val_loss: 1.8288 - val_acc: 0.5745\n",
      "Epoch 56/75\n",
      "2457/2457 [==============================] - 1s 351us/step - loss: 0.4663 - acc: 0.8494 - val_loss: 1.7402 - val_acc: 0.5816\n",
      "Epoch 57/75\n",
      "2457/2457 [==============================] - 1s 351us/step - loss: 0.4583 - acc: 0.8612 - val_loss: 1.7325 - val_acc: 0.5816\n",
      "Epoch 58/75\n",
      "2457/2457 [==============================] - 1s 346us/step - loss: 0.4513 - acc: 0.8604 - val_loss: 1.7822 - val_acc: 0.5887\n",
      "Epoch 59/75\n",
      "2457/2457 [==============================] - 1s 361us/step - loss: 0.4360 - acc: 0.8612 - val_loss: 1.7864 - val_acc: 0.5674\n",
      "Epoch 60/75\n"
     ]
    },
    {
     "name": "stdout",
     "output_type": "stream",
     "text": [
      "2457/2457 [==============================] - 1s 349us/step - loss: 0.4732 - acc: 0.8498 - val_loss: 1.9055 - val_acc: 0.5674\n",
      "Epoch 61/75\n",
      "2457/2457 [==============================] - 1s 349us/step - loss: 0.4342 - acc: 0.8653 - val_loss: 1.8287 - val_acc: 0.5816\n",
      "Epoch 62/75\n",
      "2457/2457 [==============================] - 1s 349us/step - loss: 0.4448 - acc: 0.8535 - val_loss: 1.7865 - val_acc: 0.5816\n",
      "Epoch 63/75\n",
      "2457/2457 [==============================] - 1s 346us/step - loss: 0.4416 - acc: 0.8628 - val_loss: 1.8127 - val_acc: 0.5603\n",
      "Epoch 64/75\n",
      "2457/2457 [==============================] - 1s 347us/step - loss: 0.4412 - acc: 0.8661 - val_loss: 1.7707 - val_acc: 0.5745\n",
      "Epoch 65/75\n",
      "2457/2457 [==============================] - 1s 355us/step - loss: 0.4500 - acc: 0.8523 - val_loss: 1.7858 - val_acc: 0.5816\n",
      "Epoch 66/75\n",
      "2457/2457 [==============================] - 1s 347us/step - loss: 0.4269 - acc: 0.8669 - val_loss: 1.7847 - val_acc: 0.5745\n",
      "Epoch 67/75\n",
      "2457/2457 [==============================] - 1s 354us/step - loss: 0.4293 - acc: 0.8653 - val_loss: 1.8262 - val_acc: 0.6099\n",
      "Epoch 68/75\n",
      "2457/2457 [==============================] - 1s 354us/step - loss: 0.3777 - acc: 0.8787 - val_loss: 1.8829 - val_acc: 0.5957\n",
      "Epoch 69/75\n",
      "2457/2457 [==============================] - 1s 349us/step - loss: 0.4057 - acc: 0.8726 - val_loss: 1.8199 - val_acc: 0.5745\n",
      "Epoch 70/75\n",
      "2457/2457 [==============================] - 1s 345us/step - loss: 0.4090 - acc: 0.8698 - val_loss: 1.8091 - val_acc: 0.5957\n",
      "Epoch 71/75\n",
      "2457/2457 [==============================] - 1s 350us/step - loss: 0.4029 - acc: 0.8746 - val_loss: 1.8045 - val_acc: 0.5461\n",
      "Epoch 72/75\n",
      "2457/2457 [==============================] - 1s 361us/step - loss: 0.4194 - acc: 0.8677 - val_loss: 1.8352 - val_acc: 0.6170\n",
      "Epoch 73/75\n",
      "2457/2457 [==============================] - 1s 361us/step - loss: 0.3876 - acc: 0.8799 - val_loss: 1.8618 - val_acc: 0.5603\n",
      "Epoch 74/75\n",
      "2457/2457 [==============================] - 1s 355us/step - loss: 0.3938 - acc: 0.8755 - val_loss: 1.9856 - val_acc: 0.5957\n",
      "Epoch 75/75\n",
      "2457/2457 [==============================] - 1s 350us/step - loss: 0.3961 - acc: 0.8677 - val_loss: 1.9600 - val_acc: 0.5674\n"
     ]
    }
   ],
   "source": [
    "history = model.fit(training_data, training_labels, batch_size=32, epochs=75, validation_data=(valid_data, valid_labels))"
   ]
  },
  {
   "cell_type": "markdown",
   "metadata": {},
   "source": [
    "Saving model and Pickling pipeline"
   ]
  },
  {
   "cell_type": "code",
   "execution_count": 16,
   "metadata": {},
   "outputs": [],
   "source": [
    "model.save(saving_path + model_name + '.h5')\n",
    "\n",
    "with open(saving_path +'utils_'+ model_name +'.pickle', 'wb') as f:\n",
    "    pickle.dump((le, tokenizer,num_classes, max_sequence_length), f)"
   ]
  },
  {
   "cell_type": "markdown",
   "metadata": {},
   "source": [
    "loading model and unpickling"
   ]
  },
  {
   "cell_type": "code",
   "execution_count": 17,
   "metadata": {},
   "outputs": [],
   "source": [
    "with open (saving_path + 'utils_'+ model_name+'.pickle', 'rb') as f:\n",
    "    pred_le, pred_tokenizer, pred_num_classes, pred_max_sequence_length = pickle.load(f)\n",
    "\n",
    "loaded_model = load_model(saving_path + model_name +'.h5')"
   ]
  },
  {
   "cell_type": "code",
   "execution_count": 18,
   "metadata": {},
   "outputs": [
    {
     "data": {
      "image/png": "[encoded data removed]",
      "text/plain": [
       "<matplotlib.figure.Figure at 0x7f1dea864d30>"
      ]
     },
     "metadata": {
      "needs_background": "light"
     },
     "output_type": "display_data"
    },
    {
     "data": {
      "image/png": "[encoded data removed]",
      "text/plain": [
       "<matplotlib.figure.Figure at 0x7f1de9e8eb38>"
      ]
     },
     "metadata": {
      "needs_background": "light"
     },
     "output_type": "display_data"
    }
   ],
   "source": [
    "#summarize history for accuracy\n",
    "plt.plot(history.history['acc'])\n",
    "plt.plot(history.history['val_acc'])\n",
    "plt.title('model accuracy')\n",
    "plt.ylabel('accuracy')\n",
    "plt.xlabel('epoch')\n",
    "plt.legend(['train', 'validation'],loc='lower right')\n",
    "plt.show()\n",
    "#summarize history for loss\n",
    "plt.plot(history.history['loss'])\n",
    "plt.plot(history.history['val_loss'])\n",
    "plt.title('model_loss')\n",
    "plt.ylabel('loss')\n",
    "plt.xlabel('epoch')\n",
    "plt.legend(['train', 'validation'], loc='upper right')\n",
    "plt.show()"
   ]
  },
  {
   "cell_type": "markdown",
   "metadata": {},
   "source": [
    "Test dataset evaluation and classification report"
   ]
  },
  {
   "cell_type": "code",
   "execution_count": 19,
   "metadata": {},
   "outputs": [
    {
     "name": "stdout",
     "output_type": "stream",
     "text": [
      "Top_1_accuracy: 0.5673758865248227\n",
      "Top_2_accuracy: 0.6950354609929078\n",
      "Top_3_accuracy: 0.75177304964539\n",
      "Precision, Recall and F1-Score:\n",
      "\n",
      "               precision    recall  f1-score   support\n",
      "\n",
      "           0       0.50      0.50      0.50         4\n",
      "           1       1.00      0.40      0.57         5\n",
      "           2       0.50      0.60      0.55         5\n",
      "           3       0.67      1.00      0.80         2\n",
      "           4       0.43      0.60      0.50         5\n",
      "           5       0.33      0.50      0.40         2\n",
      "           6       0.75      0.86      0.80         7\n",
      "           7       1.00      0.60      0.75         5\n",
      "           8       0.20      0.50      0.29         2\n",
      "           9       0.50      0.40      0.44         5\n",
      "          10       0.40      0.50      0.44         4\n",
      "          11       0.33      1.00      0.50         1\n",
      "          12       0.62      0.89      0.73         9\n",
      "          13       0.00      0.00      0.00         4\n",
      "          14       0.50      0.75      0.60         4\n",
      "          15       0.40      0.50      0.44         4\n",
      "          16       0.67      0.33      0.44         6\n",
      "          17       0.40      0.33      0.36         6\n",
      "          18       0.71      0.62      0.67         8\n",
      "          19       1.00      1.00      1.00         3\n",
      "          20       1.00      0.80      0.89         5\n",
      "          21       0.29      0.67      0.40         3\n",
      "          22       0.33      0.50      0.40         2\n",
      "          23       0.75      0.75      0.75         4\n",
      "          24       0.75      0.60      0.67         5\n",
      "          25       1.00      0.25      0.40         4\n",
      "          26       0.60      0.30      0.40        10\n",
      "          27       0.50      0.50      0.50         2\n",
      "          28       0.67      1.00      0.80         4\n",
      "          29       0.67      1.00      0.80         4\n",
      "          30       1.00      0.50      0.67         2\n",
      "          31       0.00      0.00      0.00         5\n",
      "\n",
      "   micro avg       0.57      0.57      0.57       141\n",
      "   macro avg       0.58      0.59      0.55       141\n",
      "weighted avg       0.60      0.57      0.55       141\n",
      "\n"
     ]
    },
    {
     "name": "stderr",
     "output_type": "stream",
     "text": [
      "/opt/flask/venv/lib/python3.6/site-packages/sklearn/metrics/classification.py:1143: UndefinedMetricWarning: Precision and F-score are ill-defined and being set to 0.0 in labels with no predicted samples.\n",
      "  'precision', 'predicted', average, warn_for)\n"
     ]
    }
   ],
   "source": [
    "#processing text to be compatibel with model input\n",
    "test_sequences = tokenizer.texts_to_sequences(test['Text']) if clean_data == True else tokenizer.texts_to_sequences(test_df['Text'])\n",
    "test_input = pad_sequences(test_sequences, maxlen = max_sequence_length)\n",
    "\n",
    "#Get predictions\n",
    "test_predictions_probs = loaded_model.predict(test_input)\n",
    "test_predictions = test_predictions_probs.argmax(axis=-1)\n",
    "\n",
    "test_intent_predictions = le.inverse_transform(test_predictions)\n",
    "test_intent_original = le.inverse_transform(test_labels)\n",
    "\n",
    "#top 3\n",
    "best_n = np.argsort(test_predictions_probs, axis=-1)[:,-3:]\n",
    "count = 0\n",
    "for i, val in enumerate(test_intent_original):\n",
    "    count = count+1 if val in best_n[i] else count\n",
    "top3_val = count/len(test_labels)\n",
    "\n",
    "#top 2\n",
    "best_n = np.argsort(test_predictions_probs, axis=-1)[:,-2:]\n",
    "count = 0\n",
    "for i, val in enumerate(test_intent_original):\n",
    "    count = count+1 if val in best_n[i] else count\n",
    "top2_val = count/len(test_labels)\n",
    "\n",
    "\n",
    "accuracy_val = sum(test_intent_predictions == test_intent_original)/len(test_labels)\n",
    "\n",
    "print(f'Top_1_accuracy: {accuracy_val}\\nTop_2_accuracy: {top2_val}\\nTop_3_accuracy: {top3_val}')\n",
    "print(\"Precision, Recall and F1-Score:\\n\\n\", classification_report(test_intent_original, test_intent_predictions))"
   ]
  },
  {
   "cell_type": "markdown",
   "metadata": {},
   "source": [
    "test samples prediction sheet"
   ]
  },
  {
   "cell_type": "code",
   "execution_count": 20,
   "metadata": {},
   "outputs": [],
   "source": [
    "if clean_data == False:\n",
    "    test_df['Predicted_label'] = test_intent_predictions\n",
    "    prediction_flag = [1 if test_df['Label'][i] == test_df['Predicted_label'][i] else 0 for i in range(len(test_df))]\n",
    "    test_df['Prediction_flag'] = prediction_flag\n",
    "\n",
    "    test_df.to_csv('/opt/flask/src/Flask_Core/Nltk/Data/Datasets/'+model_name+'.csv')\n",
    "else:\n",
    "    test['Predicted_label'] = test_intent_predictions\n",
    "    prediction_flag = [1 if test['Label'][i] == test['Predicted_label'][i] else 0 for i in range(len(test))]\n",
    "    test['Prediction_flag'] = prediction_flag\n",
    "\n",
    "    test.to_csv('/opt/flask/src/Flask_Core/Nltk/Data/Datasets/'+model_name+'.csv')\n"
   ]
  },
  {
   "cell_type": "markdown",
   "metadata": {},
   "source": [
    "confusion matrix"
   ]
  },
  {
   "cell_type": "code",
   "execution_count": 21,
   "metadata": {},
   "outputs": [],
   "source": [
    "def plot_confusion_matrix(y_true, y_pred, classes,\n",
    "                          normalize=False,\n",
    "                          title=None,\n",
    "                          cmap=plt.cm.Blues):\n",
    "    \"\"\"\n",
    "    This function prints and plots the confusion matrix.\n",
    "    Normalization can be applied by setting `normalize=True`.\n",
    "    \"\"\"\n",
    "    if not title:\n",
    "        if normalize:\n",
    "            title = 'Normalized confusion matrix'\n",
    "        else:\n",
    "            title = 'Confusion matrix, without normalization'\n",
    "\n",
    "    # Compute confusion matrix\n",
    "    cm = confusion_matrix(y_true, y_pred)\n",
    "    # Only use the labels that appear in the data\n",
    "    classes = classes[unique_labels(y_true, y_pred)]\n",
    "    if normalize:\n",
    "        cm = cm.astype('float') / cm.sum(axis=1)[:, np.newaxis]\n",
    "        print(\"Normalized confusion matrix\")\n",
    "    else:\n",
    "        print('Confusion matrix, without normalization')\n",
    "\n",
    "    #print(cm)\n",
    "\n",
    "    fig, ax = plt.subplots(figsize=(12,12))\n",
    "    im = ax.imshow(cm, interpolation='nearest', cmap=cmap)\n",
    "    ax.figure.colorbar(im, ax=ax)\n",
    "    # We want to show all ticks...\n",
    "    ax.set(xticks=np.arange(cm.shape[1]),\n",
    "           yticks=np.arange(cm.shape[0]),\n",
    "           # ... and label them with the respective list entries\n",
    "           xticklabels=classes, yticklabels=classes,\n",
    "           title=title,\n",
    "           ylabel='True label',\n",
    "           xlabel='Predicted label')\n",
    "\n",
    "    # Rotate the tick labels and set their alignment.\n",
    "    plt.setp(ax.get_xticklabels(), rotation=45, ha=\"right\",\n",
    "             rotation_mode=\"anchor\")\n",
    "\n",
    "    # Loop over data dimensions and create text annotations.\n",
    "    fmt = '.2f' if normalize else 'd'\n",
    "    thresh = cm.max() / 2.\n",
    "    for i in range(cm.shape[0]):\n",
    "        for j in range(cm.shape[1]):\n",
    "            ax.text(j, i, format(cm[i, j], fmt),\n",
    "                    ha=\"center\", va=\"center\",\n",
    "                    color=\"white\" if cm[i, j] > thresh else \"black\")\n",
    "    fig.tight_layout()\n",
    "    return ax"
   ]
  },
  {
   "cell_type": "code",
   "execution_count": 22,
   "metadata": {},
   "outputs": [],
   "source": [
    "class_names, class_count = np.unique(test_df['Label'], return_counts=True) if clean_data == False else np.unique(test['Label'], return_counts=True)"
   ]
  },
  {
   "cell_type": "code",
   "execution_count": 23,
   "metadata": {},
   "outputs": [
    {
     "name": "stdout",
     "output_type": "stream",
     "text": [
      "Confusion matrix, without normalization\n"
     ]
    },
    {
     "data": {
      "image/png": "[encoded data removed]",
      "text/plain": [
       "<matplotlib.figure.Figure at 0x7f1e490d5f98>"
      ]
     },
     "metadata": {
      "needs_background": "light"
     },
     "output_type": "display_data"
    }
   ],
   "source": [
    "np.set_printoptions(precision=2)\n",
    "# Plot non-normalized confusion matrix\n",
    "plot_confusion_matrix(test_intent_original, test_intent_predictions, classes=class_names,\n",
    "                      title='Confusion matrix, without normalization')\n",
    "\n",
    "# Plot normalized confusion matrix\n",
    "# plot_confusion_matrix(test_intent_original, test_intent_predictions, classes=test_df['String_label'], normalize=True,\n",
    "#                       title='Normalized confusion matrix')\n",
    "\n",
    "plt.show()"
   ]
  },
  {
   "cell_type": "markdown",
   "metadata": {},
   "source": [
    "one sample prediction"
   ]
  },
  {
   "cell_type": "code",
   "execution_count": 24,
   "metadata": {},
   "outputs": [],
   "source": [
    "def single_prediction(inputs, model, tokenizer, encoder, maxlen):\n",
    "    pred_text = tokenizer.texts_to_sequences(inputs)\n",
    "    pred_text = pad_sequences(pred_text, maxlen)\n",
    "    \n",
    "    probability = model.predict(pred_text)\n",
    "    predictions_prob = np.round(probability, 4)\n",
    "    \n",
    "    probability = [v for v in predictions_prob]\n",
    "    \n",
    "    #ipdb.set_trace()\n",
    "    all_ids = list(range(0, len(encoder.classes_)))\n",
    "    return all_ids, probability "
   ]
  },
  {
   "cell_type": "code",
   "execution_count": 25,
   "metadata": {},
   "outputs": [
    {
     "name": "stdout",
     "output_type": "stream",
     "text": [
      "Prediciton for Cleaned Text\n"
     ]
    },
    {
     "ename": "NameError",
     "evalue": "name 'cleaning_text' is not defined",
     "output_type": "error",
     "traceback": [
      "\u001b[0;31m---------------------------------------------------------------------------\u001b[0m",
      "\u001b[0;31mNameError\u001b[0m                                 Traceback (most recent call last)",
      "\u001b[0;32m<ipython-input-25-5535c4d800f9>\u001b[0m in \u001b[0;36m<module>\u001b[0;34m\u001b[0m\n\u001b[1;32m      2\u001b[0m \u001b[0;31m#cleaning one text for prediction\u001b[0m\u001b[0;34m\u001b[0m\u001b[0;34m\u001b[0m\u001b[0;34m\u001b[0m\u001b[0m\n\u001b[1;32m      3\u001b[0m \u001b[0mtext\u001b[0m \u001b[0;34m=\u001b[0m \u001b[0;34m\"Are hoverboard available in Africa?\"\u001b[0m\u001b[0;34m\u001b[0m\u001b[0;34m\u001b[0m\u001b[0m\n\u001b[0;32m----> 4\u001b[0;31m \u001b[0mcleaned_text\u001b[0m \u001b[0;34m=\u001b[0m \u001b[0mcleaning_text\u001b[0m\u001b[0;34m(\u001b[0m\u001b[0mtext\u001b[0m\u001b[0;34m)\u001b[0m\u001b[0;34m\u001b[0m\u001b[0;34m\u001b[0m\u001b[0m\n\u001b[0m\u001b[1;32m      5\u001b[0m \u001b[0;34m\u001b[0m\u001b[0m\n\u001b[1;32m      6\u001b[0m \u001b[0msent\u001b[0m \u001b[0;34m=\u001b[0m \u001b[0;34m[\u001b[0m\u001b[0;34m]\u001b[0m\u001b[0;34m\u001b[0m\u001b[0;34m\u001b[0m\u001b[0m\n",
      "\u001b[0;31mNameError\u001b[0m: name 'cleaning_text' is not defined"
     ]
    }
   ],
   "source": [
    "print('Prediciton for Cleaned Text')\n",
    "#cleaning one text for prediction\n",
    "text = \"Are hoverboard available in Africa?\"\n",
    "cleaned_text = cleaning_text(text)\n",
    "\n",
    "sent = []\n",
    "for row in cleaned_text:\n",
    "    sequ = ''\n",
    "for word in cleaned_text:\n",
    "    #ipdb.set_trace()\n",
    "    sequ = sequ+' '+word\n",
    "sent.append(sequ)\n",
    "\n",
    "predicted_label, predict_proba = single_prediction(sent, loaded_model, pred_tokenizer, le, pred_max_sequence_length)\n",
    "\n",
    "print(f'Predicted probabilities in percentage:\\n{predict_proba}\\n Predicted labels:\\n {predicted_label}')\n",
    "\n",
    "#Sorting Probablity for prediction\n",
    "predicted_probablity = predict_proba[0].tolist()\n",
    "\n",
    "prediction_df = {'Predicted_label':predicted_label, 'predicted_probablity':predicted_probablity}\n",
    "\n",
    "predictions = pd.DataFrame(data=prediction_df, index = None)\n",
    "index_dropped = predictions.set_index('Predicted_label')\n",
    "index_dropped.sort_values(by=['predicted_probablity'], ascending=False)"
   ]
  },
  {
   "cell_type": "code",
   "execution_count": 55,
   "metadata": {},
   "outputs": [
    {
     "name": "stdout",
     "output_type": "stream",
     "text": [
      "Prediction for uncleaned text\n",
      "Predicted probabilities in percentage:\n",
      "[array([9.00e-04, 1.18e-02, 1.91e-02, 1.00e-04, 4.73e-01, 1.46e-02,\n",
      "       1.00e-04, 1.10e-03, 3.09e-02, 8.50e-03, 1.07e-01, 2.00e-04,\n",
      "       1.30e-02, 1.50e-03, 2.66e-02, 3.58e-02, 2.00e-04, 1.70e-03,\n",
      "       1.00e-04, 9.00e-04, 2.27e-02, 1.10e-03, 1.36e-01, 0.00e+00,\n",
      "       3.70e-03, 3.80e-03, 5.20e-03, 3.70e-03, 1.10e-03, 2.50e-03,\n",
      "       4.40e-03, 6.84e-02], dtype=float32)]\n",
      " Predicted labels:\n",
      " [0, 1, 2, 3, 4, 5, 6, 7, 8, 9, 10, 11, 12, 13, 14, 15, 16, 17, 18, 19, 20, 21, 22, 23, 24, 25, 26, 27, 28, 29, 30, 31]\n"
     ]
    },
    {
     "data": {
      "text/html": [
       "<div>\n",
       "<style scoped>\n",
       "    .dataframe tbody tr th:only-of-type {\n",
       "        vertical-align: middle;\n",
       "    }\n",
       "\n",
       "    .dataframe tbody tr th {\n",
       "        vertical-align: top;\n",
       "    }\n",
       "\n",
       "    .dataframe thead th {\n",
       "        text-align: right;\n",
       "    }\n",
       "</style>\n",
       "<table border=\"1\" class=\"dataframe\">\n",
       "  <thead>\n",
       "    <tr style=\"text-align: right;\">\n",
       "      <th></th>\n",
       "      <th>predicted_probablity</th>\n",
       "    </tr>\n",
       "    <tr>\n",
       "      <th>Predicted_label</th>\n",
       "      <th></th>\n",
       "    </tr>\n",
       "  </thead>\n",
       "  <tbody>\n",
       "    <tr>\n",
       "      <th>4</th>\n",
       "      <td>0.4728</td>\n",
       "    </tr>\n",
       "    <tr>\n",
       "      <th>22</th>\n",
       "      <td>0.1362</td>\n",
       "    </tr>\n",
       "    <tr>\n",
       "      <th>10</th>\n",
       "      <td>0.1072</td>\n",
       "    </tr>\n",
       "    <tr>\n",
       "      <th>31</th>\n",
       "      <td>0.0684</td>\n",
       "    </tr>\n",
       "    <tr>\n",
       "      <th>15</th>\n",
       "      <td>0.0358</td>\n",
       "    </tr>\n",
       "    <tr>\n",
       "      <th>8</th>\n",
       "      <td>0.0309</td>\n",
       "    </tr>\n",
       "    <tr>\n",
       "      <th>14</th>\n",
       "      <td>0.0266</td>\n",
       "    </tr>\n",
       "    <tr>\n",
       "      <th>20</th>\n",
       "      <td>0.0227</td>\n",
       "    </tr>\n",
       "    <tr>\n",
       "      <th>2</th>\n",
       "      <td>0.0191</td>\n",
       "    </tr>\n",
       "    <tr>\n",
       "      <th>5</th>\n",
       "      <td>0.0146</td>\n",
       "    </tr>\n",
       "    <tr>\n",
       "      <th>12</th>\n",
       "      <td>0.0130</td>\n",
       "    </tr>\n",
       "    <tr>\n",
       "      <th>1</th>\n",
       "      <td>0.0118</td>\n",
       "    </tr>\n",
       "    <tr>\n",
       "      <th>9</th>\n",
       "      <td>0.0085</td>\n",
       "    </tr>\n",
       "    <tr>\n",
       "      <th>26</th>\n",
       "      <td>0.0052</td>\n",
       "    </tr>\n",
       "    <tr>\n",
       "      <th>30</th>\n",
       "      <td>0.0044</td>\n",
       "    </tr>\n",
       "    <tr>\n",
       "      <th>25</th>\n",
       "      <td>0.0038</td>\n",
       "    </tr>\n",
       "    <tr>\n",
       "      <th>24</th>\n",
       "      <td>0.0037</td>\n",
       "    </tr>\n",
       "    <tr>\n",
       "      <th>27</th>\n",
       "      <td>0.0037</td>\n",
       "    </tr>\n",
       "    <tr>\n",
       "      <th>29</th>\n",
       "      <td>0.0025</td>\n",
       "    </tr>\n",
       "    <tr>\n",
       "      <th>17</th>\n",
       "      <td>0.0017</td>\n",
       "    </tr>\n",
       "    <tr>\n",
       "      <th>13</th>\n",
       "      <td>0.0015</td>\n",
       "    </tr>\n",
       "    <tr>\n",
       "      <th>28</th>\n",
       "      <td>0.0011</td>\n",
       "    </tr>\n",
       "    <tr>\n",
       "      <th>7</th>\n",
       "      <td>0.0011</td>\n",
       "    </tr>\n",
       "    <tr>\n",
       "      <th>21</th>\n",
       "      <td>0.0011</td>\n",
       "    </tr>\n",
       "    <tr>\n",
       "      <th>0</th>\n",
       "      <td>0.0009</td>\n",
       "    </tr>\n",
       "    <tr>\n",
       "      <th>19</th>\n",
       "      <td>0.0009</td>\n",
       "    </tr>\n",
       "    <tr>\n",
       "      <th>11</th>\n",
       "      <td>0.0002</td>\n",
       "    </tr>\n",
       "    <tr>\n",
       "      <th>16</th>\n",
       "      <td>0.0002</td>\n",
       "    </tr>\n",
       "    <tr>\n",
       "      <th>18</th>\n",
       "      <td>0.0001</td>\n",
       "    </tr>\n",
       "    <tr>\n",
       "      <th>6</th>\n",
       "      <td>0.0001</td>\n",
       "    </tr>\n",
       "    <tr>\n",
       "      <th>3</th>\n",
       "      <td>0.0001</td>\n",
       "    </tr>\n",
       "    <tr>\n",
       "      <th>23</th>\n",
       "      <td>0.0000</td>\n",
       "    </tr>\n",
       "  </tbody>\n",
       "</table>\n",
       "</div>"
      ],
      "text/plain": [
       "                 predicted_probablity\n",
       "Predicted_label                      \n",
       "4                              0.4728\n",
       "22                             0.1362\n",
       "10                             0.1072\n",
       "31                             0.0684\n",
       "15                             0.0358\n",
       "8                              0.0309\n",
       "14                             0.0266\n",
       "20                             0.0227\n",
       "2                              0.0191\n",
       "5                              0.0146\n",
       "12                             0.0130\n",
       "1                              0.0118\n",
       "9                              0.0085\n",
       "26                             0.0052\n",
       "30                             0.0044\n",
       "25                             0.0038\n",
       "24                             0.0037\n",
       "27                             0.0037\n",
       "29                             0.0025\n",
       "17                             0.0017\n",
       "13                             0.0015\n",
       "28                             0.0011\n",
       "7                              0.0011\n",
       "21                             0.0011\n",
       "0                              0.0009\n",
       "19                             0.0009\n",
       "11                             0.0002\n",
       "16                             0.0002\n",
       "18                             0.0001\n",
       "6                              0.0001\n",
       "3                              0.0001\n",
       "23                             0.0000"
      ]
     },
     "execution_count": 55,
     "metadata": {},
     "output_type": "execute_result"
    }
   ],
   "source": [
    "print('Prediction for uncleaned text')\n",
    "#uncleaned prediction for single text\n",
    "predicted_label, predict_proba = single_prediction([\"there are sparks coming out of my board when i use it and i do not think that is supposed to happen\"], loaded_model, pred_tokenizer, pred_le, pred_max_sequence_length)\n",
    "\n",
    "print(f'Predicted probabilities in percentage:\\n{predict_proba}\\n Predicted labels:\\n {predicted_label}')\n",
    "\n",
    "#Sorting Probablity for prediction\n",
    "predicted_probablity = predict_proba[0].tolist()\n",
    "\n",
    "prediction_df = {'Predicted_label':predicted_label, 'predicted_probablity':predicted_probablity}\n",
    "\n",
    "predictions = pd.DataFrame(data=prediction_df, index = None)\n",
    "index_dropped = predictions.set_index('Predicted_label')\n",
    "index_dropped.sort_values(by=['predicted_probablity'], ascending=False)"
   ]
  },
  {
   "cell_type": "code",
   "execution_count": null,
   "metadata": {},
   "outputs": [],
   "source": []
  }
 ],
 "metadata": {
  "kernelspec": {
   "display_name": "Python 3",
   "language": "python",
   "name": "python3"
  },
  "language_info": {
   "codemirror_mode": {
    "name": "ipython",
    "version": 3
   },
   "file_extension": ".py",
   "mimetype": "text/x-python",
   "name": "python",
   "nbconvert_exporter": "python",
   "pygments_lexer": "ipython3",
   "version": "3.6.7"
  }
 },
 "nbformat": 4,
 "nbformat_minor": 2
}
