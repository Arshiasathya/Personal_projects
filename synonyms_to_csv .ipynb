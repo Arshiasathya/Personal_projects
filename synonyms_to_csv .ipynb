{
 "cells": [
  {
   "cell_type": "code",
   "execution_count": 1,
   "metadata": {},
   "outputs": [],
   "source": [
    "import sys\n",
    "import pandas as pd\n",
    "from thesaurus import Word\n",
    "from nltk.tokenize import word_tokenize\n",
    "from nltk import tokenize\n",
    "from random import randint, shuffle\n",
    "import nltk.data\n",
    "import thesaurus as th\n",
    "import ipdb\n",
    "from datetime import datetime\n",
    "import itertools\n",
    "from collections import Iterable\n",
    "\n",
    "import spacy as nlp"
   ]
  },
  {
   "cell_type": "code",
   "execution_count": 2,
   "metadata": {},
   "outputs": [
    {
     "data": {
      "text/html": [
       "<div>\n",
       "<style scoped>\n",
       "    .dataframe tbody tr th:only-of-type {\n",
       "        vertical-align: middle;\n",
       "    }\n",
       "\n",
       "    .dataframe tbody tr th {\n",
       "        vertical-align: top;\n",
       "    }\n",
       "\n",
       "    .dataframe thead th {\n",
       "        text-align: right;\n",
       "    }\n",
       "</style>\n",
       "<table border=\"1\" class=\"dataframe\">\n",
       "  <thead>\n",
       "    <tr style=\"text-align: right;\">\n",
       "      <th></th>\n",
       "      <th>Sample</th>\n",
       "      <th>Label</th>\n",
       "    </tr>\n",
       "  </thead>\n",
       "  <tbody>\n",
       "    <tr>\n",
       "      <th>0</th>\n",
       "      <td>I fell off my board at full speed and broke my...</td>\n",
       "      <td>Injury/Health Issue</td>\n",
       "    </tr>\n",
       "    <tr>\n",
       "      <th>1</th>\n",
       "      <td>I wiped out and was injured</td>\n",
       "      <td>Injury/Health Issue</td>\n",
       "    </tr>\n",
       "    <tr>\n",
       "      <th>2</th>\n",
       "      <td>My board failed on me mid-ride and I suffered ...</td>\n",
       "      <td>Injury/Health Issue</td>\n",
       "    </tr>\n",
       "    <tr>\n",
       "      <th>3</th>\n",
       "      <td>I've experienced bodily harm as a result of yo...</td>\n",
       "      <td>Injury/Health Issue</td>\n",
       "    </tr>\n",
       "    <tr>\n",
       "      <th>4</th>\n",
       "      <td>Being around the board when it is active makes...</td>\n",
       "      <td>Injury/Health Issue</td>\n",
       "    </tr>\n",
       "  </tbody>\n",
       "</table>\n",
       "</div>"
      ],
      "text/plain": [
       "                                              Sample                Label\n",
       "0  I fell off my board at full speed and broke my...  Injury/Health Issue\n",
       "1                        I wiped out and was injured  Injury/Health Issue\n",
       "2  My board failed on me mid-ride and I suffered ...  Injury/Health Issue\n",
       "3  I've experienced bodily harm as a result of yo...  Injury/Health Issue\n",
       "4  Being around the board when it is active makes...  Injury/Health Issue"
      ]
     },
     "execution_count": 2,
     "metadata": {},
     "output_type": "execute_result"
    }
   ],
   "source": [
    "df = pd.read_csv('/opt/flask/src/Flask_Core/Nltk/Data/Datasets/datathon_v2_trainable.csv')\n",
    "df.head()"
   ]
  },
  {
   "cell_type": "code",
   "execution_count": 3,
   "metadata": {},
   "outputs": [
    {
     "data": {
      "text/plain": [
       "2122"
      ]
     },
     "execution_count": 3,
     "metadata": {},
     "output_type": "execute_result"
    }
   ],
   "source": [
    "len(df)"
   ]
  },
  {
   "cell_type": "code",
   "execution_count": 4,
   "metadata": {},
   "outputs": [],
   "source": [
    "syn_limit = 10\n",
    "perm_limit = 100\n",
    "random_perm = True"
   ]
  },
  {
   "cell_type": "code",
   "execution_count": 7,
   "metadata": {},
   "outputs": [],
   "source": [
    "sp_model = nlp.load('en')\n",
    "def synonym_scrambling(sentence, synonym_limit=None, permutation_limit=None, random_permutations=False):\n",
    "    words = sp_model(sentence)\n",
    "    synonym_dict = {}\n",
    "    for word in words:\n",
    "        # Do not process stop words or relevant POS\n",
    "        synonym = None\n",
    "        if word.is_stop or word.pos_ in ['PROPN', 'SYM'] or word.text.lower() in ['board', 'hoverboard', 'comic', 'issue', 'huva']:\n",
    "            pass\n",
    "        else:\n",
    "            try:\n",
    "                synonym = th.Word(word.text).synonyms(relevance=3)\n",
    "                synonym = synonym[:synonym_limit] if synonym_limit and len(synonym) > synonym_limit else synonym\n",
    "                if synonym != []: \n",
    "                    synonym_dict[word.text] = synonym\n",
    "                else:\n",
    "                    pass\n",
    "            except:\n",
    "                pass\n",
    "            \n",
    "        synonym_dict[word.text] = synonym\n",
    "            \n",
    "    syn_list=[]\n",
    "    for key, value in synonym_dict.items():\n",
    "        temp = [key, value]\n",
    "        syn_list.append(temp)\n",
    "        \n",
    "    synonymlist = []\n",
    "    for i in range(len(syn_list)):\n",
    "        flat = flattern(syn_list[i])\n",
    "        synonymlist.append(flat)\n",
    "        \n",
    "    matrix_combine = remove_none(synonymlist)\n",
    "    #ipdb.set_trace()\n",
    "    answer = [' '.join(perm) for perm in itertools.islice(itertools.product(*matrix_combine), 10)]\n",
    "    if random_permutations:\n",
    "        shuffle(answer)\n",
    "    if permutation_limit:\n",
    "        answer = answer[:permutation_limit]\n",
    "    \n",
    "    answer.append(sentence)\n",
    "    answer = list(set(answer))\n",
    "    \n",
    "    return answer\n",
    "    \n",
    "def flattern(A):\n",
    "    rt = []\n",
    "    for i in A:\n",
    "        if isinstance(i,list): rt.extend(flattern(i))\n",
    "        else: rt.append(i)\n",
    "    return rt\n",
    "\n",
    "def remove_none(flattenlist):\n",
    "    none_removed = []\n",
    "    for i in range(len(flattenlist)):\n",
    "        remove_none = list(filter(None, flattenlist[i]))\n",
    "        none_removed.append(remove_none)\n",
    "    return none_removed\n",
    "\n",
    "def make_dataframe(samples):\n",
    "    df_output = pd.DataFrame(samples, columns=['Sample'])\n",
    "    return df_output\n",
    "\n",
    "def make_labellist(label, count):\n",
    "    label_list = []\n",
    "    for j in range(count):\n",
    "        labellst = (label)\n",
    "        label_list.append(labellst)\n",
    "    return label_list"
   ]
  },
  {
   "cell_type": "code",
   "execution_count": 8,
   "metadata": {},
   "outputs": [
    {
     "name": "stdout",
     "output_type": "stream",
     "text": [
      "Processed 2122/2122 Sample"
     ]
    }
   ],
   "source": [
    "comb = []\n",
    "num_samples = len(df['Sample'])\n",
    "for i, sentence in enumerate(df['Sample']):\n",
    "    comb.append(synonym_scrambling(sentence, synonym_limit=syn_limit, permutation_limit=perm_limit, random_permutations=random_perm))\n",
    "    sys.stdout.write(\"\\r\" + f\"Processed {i+1}/{num_samples} Sample\")\n",
    "    sys.stdout.flush()\n",
    "\n",
    "label = [make_labellist(label, len(synonym_set)) for synonym_set, label in zip(comb, df['Label'])]"
   ]
  },
  {
   "cell_type": "code",
   "execution_count": 9,
   "metadata": {},
   "outputs": [
    {
     "data": {
      "text/html": [
       "<div>\n",
       "<style scoped>\n",
       "    .dataframe tbody tr th:only-of-type {\n",
       "        vertical-align: middle;\n",
       "    }\n",
       "\n",
       "    .dataframe tbody tr th {\n",
       "        vertical-align: top;\n",
       "    }\n",
       "\n",
       "    .dataframe thead th {\n",
       "        text-align: right;\n",
       "    }\n",
       "</style>\n",
       "<table border=\"1\" class=\"dataframe\">\n",
       "  <thead>\n",
       "    <tr style=\"text-align: right;\">\n",
       "      <th></th>\n",
       "      <th>Sample</th>\n",
       "      <th>Label</th>\n",
       "    </tr>\n",
       "  </thead>\n",
       "  <tbody>\n",
       "    <tr>\n",
       "      <th>0</th>\n",
       "      <td>I fell off my board at full speed and broke leg</td>\n",
       "      <td>Injury/Health Issue</td>\n",
       "    </tr>\n",
       "    <tr>\n",
       "      <th>1</th>\n",
       "      <td>I fell off my board at full speed and bankrupt...</td>\n",
       "      <td>Injury/Health Issue</td>\n",
       "    </tr>\n",
       "    <tr>\n",
       "      <th>2</th>\n",
       "      <td>I fell off my board at full speed and bankrupt...</td>\n",
       "      <td>Injury/Health Issue</td>\n",
       "    </tr>\n",
       "    <tr>\n",
       "      <th>3</th>\n",
       "      <td>I fell off my board at full speed and bankrupt...</td>\n",
       "      <td>Injury/Health Issue</td>\n",
       "    </tr>\n",
       "    <tr>\n",
       "      <th>4</th>\n",
       "      <td>I fell off my board at full speed and broke pole</td>\n",
       "      <td>Injury/Health Issue</td>\n",
       "    </tr>\n",
       "  </tbody>\n",
       "</table>\n",
       "</div>"
      ],
      "text/plain": [
       "                                              Sample                Label\n",
       "0    I fell off my board at full speed and broke leg  Injury/Health Issue\n",
       "1  I fell off my board at full speed and bankrupt...  Injury/Health Issue\n",
       "2  I fell off my board at full speed and bankrupt...  Injury/Health Issue\n",
       "3  I fell off my board at full speed and bankrupt...  Injury/Health Issue\n",
       "4   I fell off my board at full speed and broke pole  Injury/Health Issue"
      ]
     },
     "execution_count": 9,
     "metadata": {},
     "output_type": "execute_result"
    }
   ],
   "source": [
    "flattened_list = [y for x in comb for y in x]\n",
    "flattened_label_list = [y for x in label for y in x]\n",
    "\n",
    "# ipdb.set_trace()\n",
    "\n",
    "output_df = make_dataframe(flattened_list)\n",
    "output_df['Label'] = flattened_label_list\n",
    "output_df.head()"
   ]
  },
  {
   "cell_type": "code",
   "execution_count": 10,
   "metadata": {},
   "outputs": [],
   "source": [
    "output_df.to_csv(path_or_buf='/opt/flask/src/Flask_Core/Nltk/Data/Datasets/datathon_v2_trainable_10_10_updated.csv', index=False)"
   ]
  },
  {
   "cell_type": "code",
   "execution_count": 11,
   "metadata": {},
   "outputs": [
    {
     "data": {
      "text/plain": [
       "21427"
      ]
     },
     "execution_count": 11,
     "metadata": {},
     "output_type": "execute_result"
    }
   ],
   "source": [
    "len(output_df)"
   ]
  },
  {
   "cell_type": "code",
   "execution_count": null,
   "metadata": {},
   "outputs": [],
   "source": []
  }
 ],
 "metadata": {
  "kernelspec": {
   "display_name": "Python 3",
   "language": "python",
   "name": "python3"
  },
  "language_info": {
   "codemirror_mode": {
    "name": "ipython",
    "version": 3
   },
   "file_extension": ".py",
   "mimetype": "text/x-python",
   "name": "python",
   "nbconvert_exporter": "python",
   "pygments_lexer": "ipython3",
   "version": "3.6.7"
  }
 },
 "nbformat": 4,
 "nbformat_minor": 2
}
