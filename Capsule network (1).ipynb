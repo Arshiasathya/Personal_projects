{
 "cells": [
  {
   "cell_type": "markdown",
   "metadata": {},
   "source": [
    "Data Preprocessing"
   ]
  },
  {
   "cell_type": "code",
   "execution_count": 1,
   "metadata": {},
   "outputs": [
    {
     "name": "stdout",
     "output_type": "stream",
     "text": [
      "[nltk_data] Downloading package punkt to /home/ubuntu/nltk_data...\n",
      "[nltk_data]   Package punkt is already up-to-date!\n"
     ]
    },
    {
     "data": {
      "text/plain": [
       "True"
      ]
     },
     "execution_count": 1,
     "metadata": {},
     "output_type": "execute_result"
    }
   ],
   "source": [
    "import gc\n",
    "import os\n",
    "import nltk\n",
    "import tqdm\n",
    "import numpy as np\n",
    "import pandas as pd\n",
    "import ipdb\n",
    "nltk.download('punkt')"
   ]
  },
  {
   "cell_type": "markdown",
   "metadata": {},
   "source": [
    "Model Imports"
   ]
  },
  {
   "cell_type": "code",
   "execution_count": 10,
   "metadata": {},
   "outputs": [
    {
     "name": "stderr",
     "output_type": "stream",
     "text": [
      "Using TensorFlow backend.\n"
     ]
    }
   ],
   "source": [
    "from keras.callbacks import Callback, EarlyStopping, ModelCheckpoint\n",
    "from keras.engine import Layer\n",
    "from keras.layers import Activation, Add, Bidirectional, Conv1D, Dense, Dropout, Embedding, Flatten\n",
    "from keras.layers import concatenate, GRU, Input, K, LSTM, MaxPooling1D\n",
    "from keras.layers import GlobalAveragePooling1D, GlobalMaxPooling1D, SpatialDropout1D\n",
    "from keras.models import Model, load_model\n",
    "from keras.optimizers import Adam\n",
    "from keras.preprocessing import text, sequence\n",
    "from sklearn.metrics import accuracy_score, roc_auc_score, log_loss\n",
    "from sklearn.model_selection import train_test_split\n",
    "from keras import initializers, regularizers, constraints, optimizers, layers, callbacks\n",
    "from keras.utils import to_categorical\n",
    "import matplotlib.pyplot as plt\n",
    "%matplotlib inline"
   ]
  },
  {
   "cell_type": "code",
   "execution_count": null,
   "metadata": {},
   "outputs": [],
   "source": [
    "from gensim.models.keyedvectors import KeyedVectors\n",
    "embed_model = KeyedVectors.load_word2vec_format('/opt/flask/src/Flask_Core/Nltk/Data/flaskwordembeddings/word2vec.100B.300d.bin', binary=True)\n",
    "embed_model_txt = embed_model.save_word2vec_format('/opt/flask/src/Flask_Core/Nltk/Data/flaskwordembeddings/word2vec.100B.300d.txt', binary=False)"
   ]
  },
  {
   "cell_type": "code",
   "execution_count": 3,
   "metadata": {},
   "outputs": [],
   "source": [
    "def read_embedding_list(file_path):\n",
    "    embedding_word_dict = {}\n",
    "    embedding_list = []\n",
    "    f = open(file_path)\n",
    "    \n",
    "    for index, line in enumerate(f):\n",
    "        if index == 0:\n",
    "            continue\n",
    "        values = line.split()\n",
    "        word = values[0]\n",
    "        try:\n",
    "            coefs = np.asarray(values[1:], dtype='float32')\n",
    "        except:\n",
    "            continue\n",
    "        embedding_list.append(coefs)\n",
    "        embedding_word_dict[word] = len(embedding_word_dict)\n",
    "    f.close()\n",
    "    embedding_list = np.array(embedding_list)\n",
    "    return embedding_list, embedding_word_dict"
   ]
  },
  {
   "cell_type": "code",
   "execution_count": 4,
   "metadata": {},
   "outputs": [
    {
     "name": "stdout",
     "output_type": "stream",
     "text": [
      "Loading Embeddings...\n"
     ]
    }
   ],
   "source": [
    "#Embedding\n",
    "print(\"Loading Embeddings...\")\n",
    "embedding_list, embedding_word_dict = read_embedding_list('/opt/flask/src/Flask_Core/Nltk/Data/flaskwordembeddings/word2vec.100B.300d.txt')\n",
    "embedding_size = len(embedding_list[0])"
   ]
  },
  {
   "cell_type": "code",
   "execution_count": 5,
   "metadata": {},
   "outputs": [],
   "source": [
    "def tokenize_sentences(sentences, words_dict):\n",
    "    tokenized_sentences = []\n",
    "    for sentence in tqdm.tqdm(sentences):\n",
    "        if hasattr(sentence, \"decode\"):\n",
    "            sentence = sentence.decode(\"utf-8\")\n",
    "        tokens = nltk.tokenize.word_tokenize(sentence)\n",
    "        result = []\n",
    "        for word in tokens:\n",
    "            word = word.lower()\n",
    "            if word not in words_dict:\n",
    "                words_dict[word] = len(words_dict)\n",
    "            word_index = words_dict[word]\n",
    "            result.append(word_index)\n",
    "        tokenized_sentences.append(result)\n",
    "    return tokenized_sentences, words_dict"
   ]
  },
  {
   "cell_type": "code",
   "execution_count": 6,
   "metadata": {},
   "outputs": [],
   "source": [
    "def clear_embedding_list(embedding_list, embedding_word_dict, words_dict):\n",
    "    cleared_embedding_list = []\n",
    "    cleared_embedding_word_dict = {}\n",
    "    \n",
    "    for word in words_dict:\n",
    "        if word not in embedding_word_dict:\n",
    "            continue\n",
    "        word_id = embedding_word_dict[word]\n",
    "        row = embedding_list[word_id]\n",
    "        cleared_embedding_list.append(row)\n",
    "        cleared_embedding_word_dict[word] = len(cleared_embedding_word_dict)\n",
    "        \n",
    "    return cleared_embedding_list, cleared_embedding_word_dict"
   ]
  },
  {
   "cell_type": "code",
   "execution_count": 7,
   "metadata": {},
   "outputs": [],
   "source": [
    "def convert_tokens_to_ids(tokenized_sentences, words_list, embedding_word_dict, sentences_length):\n",
    "    words_train = []\n",
    "    \n",
    "    for sentence in tokenized_sentences:\n",
    "        current_words = []\n",
    "        for word_index in sentence:\n",
    "            word = words_list[word_index]\n",
    "            word_id = embedding_word_dict.get(word, len(embedding_word_dict)-2)\n",
    "            current_words.append(word_id)\n",
    "        if len(current_words) >= sentences_length:\n",
    "            current_words = current_words[:sentences_length]\n",
    "        else:\n",
    "            current_words += [len(embedding_word_dict)-1]*(sentences_length-len(current_words))\n",
    "            \n",
    "        words_train.append(current_words)\n",
    "    return words_train"
   ]
  },
  {
   "cell_type": "markdown",
   "metadata": {},
   "source": [
    "Reading, Preprocessing and Preparing Training Data"
   ]
  },
  {
   "cell_type": "code",
   "execution_count": 25,
   "metadata": {},
   "outputs": [
    {
     "name": "stderr",
     "output_type": "stream",
     "text": [
      " 32%|███▏      | 783/2457 [00:00<00:00, 7827.54it/s]"
     ]
    },
    {
     "name": "stdout",
     "output_type": "stream",
     "text": [
      "Loading Data...\n",
      "Number of training items: 2457\n",
      "Total number of classes:[ 0  1  2  3  4  5  6  7  8  9 10 11 12 13 14 15 16 17 18 19 20 21 22 23\n",
      " 24 25 26 27 28 29 30 31]\n",
      "Tokenizing sentences in train set...\n"
     ]
    },
    {
     "name": "stderr",
     "output_type": "stream",
     "text": [
      "100%|██████████| 2457/2457 [00:00<00:00, 7862.98it/s]"
     ]
    },
    {
     "name": "stdout",
     "output_type": "stream",
     "text": [
      "Preparing Training data...\n",
      "Print train data shape: (2457, 60)\n",
      "Print train label shape: (2457, 32)\n"
     ]
    },
    {
     "name": "stderr",
     "output_type": "stream",
     "text": [
      "\n"
     ]
    }
   ],
   "source": [
    "sentences_length = 60\n",
    "print(\"Loading Data...\")\n",
    "train_df = pd.read_csv('/opt/flask/src/Flask_Core/Nltk/Data/Datasets/train_full_training_datathon3_5_70_percent_monday_loop.csv')\n",
    "#validation_df = pd.read_csv('/opt/flask/src/Flask_Core/Nltk/Data/Datasets/validation_full_training_datathon3_5_70_percent_monday_loop.csv')\n",
    "print(f\"Number of training items: {len(train_df)}\")\n",
    "num_classes = np.unique(train_df['Label'])\n",
    "print(f\"Total number of classes:{num_classes}\")\n",
    "\n",
    "print(\"Tokenizing sentences in train set...\")\n",
    "tokenized_senteces_train, words_dict = tokenize_sentences(train_df['Text'], {})\n",
    "\n",
    "print(\"Preparing Training data...\")\n",
    "embedding_list, embedding_word_dict = clear_embedding_list(embedding_list, embedding_word_dict, words_dict)\n",
    "\n",
    "embedding_list.append([0.] * embedding_size)\n",
    "embedding_list.append([-1.] * embedding_size)\n",
    "\n",
    "embedding_matrix = np.array(embedding_list)\n",
    "\n",
    "id_to_word = dict((id, word) for word, id in words_dict.items())\n",
    "train_list_of_tokens_ids = convert_tokens_to_ids(tokenized_senteces_train, id_to_word, embedding_word_dict, sentences_length)\n",
    "\n",
    "X_train = np.array(train_list_of_tokens_ids)\n",
    "y_train = to_categorical(np.asarray(train_df['Label']))\n",
    "\n",
    "print(f'Print train data shape: {X_train.shape}\\nPrint train label shape: {y_train.shape}')\n",
    "num_classes = len(np.unique(train_df['Label']))"
   ]
  },
  {
   "cell_type": "code",
   "execution_count": 27,
   "metadata": {},
   "outputs": [
    {
     "data": {
      "text/plain": [
       "32"
      ]
     },
     "execution_count": 27,
     "metadata": {},
     "output_type": "execute_result"
    }
   ],
   "source": [
    "y_train.shape[1]"
   ]
  },
  {
   "cell_type": "code",
   "execution_count": 12,
   "metadata": {},
   "outputs": [],
   "source": [
    "batch_size = 32\n",
    "dropout_rate = 0.2\n",
    "fold_count = 2\n",
    "gru_len = 128\n",
    "routings = 5\n",
    "num_capsule = 10\n",
    "dim_capsule = 16\n",
    "kernel_size = (3,3)"
   ]
  },
  {
   "cell_type": "code",
   "execution_count": 13,
   "metadata": {},
   "outputs": [],
   "source": [
    "def squash(x, axis=-1):\n",
    "    s_squared_norm = K.sum(K.square(x), axis, keepdims=True)\n",
    "    scale = K.sqrt(s_squared_norm+K.epsilon())\n",
    "    return x/scale"
   ]
  },
  {
   "cell_type": "code",
   "execution_count": 14,
   "metadata": {},
   "outputs": [],
   "source": [
    "class Capsule(Layer):\n",
    "    def __init__(self, num_capsule=10, dim_capsule=16, routing=3, kernel_size=(9,1), share_weights=True, activation='default', **kwargs):\n",
    "        super(Capsule, self).__init__(**kwargs)\n",
    "        self.num_capsule = num_capsule\n",
    "        self.dim_capsule = dim_capsule\n",
    "        self.routings = routings\n",
    "        self.kernel_size = kernel_size\n",
    "        self.share_weights = share_weights\n",
    "        if activation == 'default':\n",
    "            self.activation = squash\n",
    "        else:\n",
    "            self.activation = Activation(activation)\n",
    "    \n",
    "    def build(self, input_shape):\n",
    "        super(Capsule, self).build(input_shape)\n",
    "        input_dim_capsule = input_shape[-1]\n",
    "        if self.share_weights:\n",
    "            self.W = self.add_weight(name='capsule_kernel', shape=(1, input_dim_capsule, self.num_capsule*self.dim_capsule), initializer='glorot_uniform', trainable=True)\n",
    "        else:\n",
    "            input_num_capsule = input_shape[-2]\n",
    "            self.W = self.add_weight(nmae='capsule_kernel', shape=(input_num_capsule, input_dim_capsule, self.num_capsule*self.dim_capsule),initializer='glorot_uniform', trainable=True)\n",
    "    \n",
    "    def call(self, u_vecs):\n",
    "        if self.share_weights:\n",
    "            u_hat_vecs = K.conv1d(u_vecs, self.W)\n",
    "        else:\n",
    "            u_hat_vecs = K.local_conv1d(u_vecs, self.W, [1], [1])\n",
    "            \n",
    "        batch_size = K.shape(u_vecs)[0]\n",
    "        input_num_capsule = K.shape(u_vecs)[1]\n",
    "        u_hat_vecs = K.reshape(u_hat_vecs, (batch_size, input_num_capsule, self.num_capsule, self.dim_capsule))\n",
    "        u_hat_vecs = K.permute_dimensions(u_hat_vecs, (0,2,1,3))\n",
    "        \n",
    "        b = K.zeros_like(u_hat_vecs[:,:,:,0]) #shape = [None, num_capsule, input_num_capsule]\n",
    "        \n",
    "        for i in range(self.routings):\n",
    "            b = K.permute_dimensions(b, (0, 2, 1)) #shape = [None, input_num_capsule, num_capsule]\n",
    "            \n",
    "            c = K.softmax(b)\n",
    "            c = K.permute_dimensions(c, (0,2,1))\n",
    "            b = K.permute_dimensions(b, (0,2,1))\n",
    "            outputs = self.activation(K.batch_dot(c, u_hat_vecs, [2,2]))\n",
    "            if i < self.routings -1:\n",
    "                b = K.batch_dot(outputs, u_hat_vecs, [2,3])\n",
    "        return outputs\n",
    "    \n",
    "    def compute_output_shape(self, input_shape):\n",
    "        return (None, self.num_capsule, self.dim_capsule)"
   ]
  },
  {
   "cell_type": "code",
   "execution_count": 28,
   "metadata": {},
   "outputs": [],
   "source": [
    "def get_model(embedding_matrix, sequence_length, dropout_rate):\n",
    "    input1 = Input(shape=(sequence_length,))\n",
    "    embed_layer = Embedding(embedding_matrix.shape[0], embedding_matrix.shape[1], weights = [embedding_matrix], trainable=False)(input1)\n",
    "    embed_layer = SpatialDropout1D(dropout_rate)(embed_layer)\n",
    "    x = Bidirectional(GRU(gru_len, activation='relu', dropout=dropout_rate, recurrent_dropout=dropout_rate, return_sequences=True))(embed_layer)\n",
    "    capsule = Capsule(num_capsule=num_capsule, dim_capsule=dim_capsule, routing=routings, kernel_size=kernel_size, share_weights=True)(x)\n",
    "    capsule = Flatten()(capsule)\n",
    "    capsule = Dropout(dropout_rate)(capsule)\n",
    "    ipdb.set_trace()\n",
    "    output = Dense(num_classes, activation='softmax')(capsule)\n",
    "    model = Model(inputs=input1, outputs=output)\n",
    "    model.compile(loss='mean_squared_error', optimizer='adam', metrics=['acc'])\n",
    "    model.summary()\n",
    "    return model"
   ]
  },
  {
   "cell_type": "markdown",
   "metadata": {},
   "source": [
    "Training Model"
   ]
  },
  {
   "cell_type": "code",
   "execution_count": 29,
   "metadata": {},
   "outputs": [],
   "source": [
    "def _train_model(model, batch_size, train_x, train_y, val_x, val_y):\n",
    "    num_labels =  y_train.shape[1]\n",
    "    patience = 5\n",
    "    best_loss = -1\n",
    "    best_weights = None\n",
    "    best_epochs = 0\n",
    "    \n",
    "    current_epoch = 0\n",
    "    \n",
    "    while True:\n",
    "        model.fit(train_x, train_y, batch_size=batch_size, epochs=1, validation_data=(val_x, val_y))\n",
    "        y_pred = model.predict(val_x, batch_size=batch_size)\n",
    "        total_loss = 0\n",
    "        #ipdb.set_trace()\n",
    "        for j in range(num_labels):\n",
    "            loss = log_loss(val_y[:, j], y_pred[:, j])\n",
    "            total_loss += loss\n",
    "        total_loss /=num_labels\n",
    "            \n",
    "        print(f\"Epoch{current_epoch}\\n loss{total_loss}\\n best_loss:{best_loss}\")\n",
    "                \n",
    "        current_epoch += 1\n",
    "        if total_loss < best_loss or best_loss == -1:\n",
    "            best_loss = total_loss\n",
    "            best_weights = model.get_weights()\n",
    "            best_epoch = current_epoch\n",
    "        else:\n",
    "            if current_epoch - best_epoch == patience:\n",
    "                break\n",
    "                  \n",
    "    model.set_weights(best_weights)\n",
    "    return model\n",
    "                "
   ]
  },
  {
   "cell_type": "code",
   "execution_count": 30,
   "metadata": {},
   "outputs": [],
   "source": [
    "def train_folds(X, y, fold_count, batch_size, get_model_func):\n",
    "    print(\"=\"*75)\n",
    "    fold_size = len(X) // fold_count\n",
    "    model = []\n",
    "    result_path = \"predictions\"\n",
    "    if not os.path.exists(result_path):\n",
    "        os.mkdir(result_path)\n",
    "    for fold_id in range(0, fold_count):\n",
    "        fold_start = fold_size * fold_id\n",
    "        fold_end = fold_start + fold_size\n",
    "        \n",
    "        \n",
    "        if fold_id == fold_size -1:\n",
    "            fold_end = len(X)\n",
    "        #ipdb.set_trace()\n",
    "        train_x = np.concatenate([X[:fold_start], X[fold_end:]])\n",
    "        train_y = np.concatenate([y[:fold_start], y[fold_end:]])\n",
    "        \n",
    "        val_x = np.array(X[fold_start:fold_end])\n",
    "        val_y = np.array(y[fold_start:fold_end])\n",
    "        \n",
    "        model = _train_model(get_model_func(), batch_size, train_x, train_y, val_x, val_y)\n",
    "        train_predicts_path = os.path.join(result_path, \"train_predicts{0}.npy\".format(fold_id))\n",
    "        \n",
    "        test_predicts_path = os.path.join(result_path, \"test_predicts{0}.npy\".format(fold_id))\n",
    "        train_predicts = model.predict(X, batch_size=32, verbose=1)\n",
    "        #test_predicts = model.predict(X_test, batch_size=32, verbose=1)\n",
    "        np.save(train_predicts_path, train_predicts)\n",
    "        #np.save(test_predicts_path, test_predicts)\n",
    "        \n",
    "    return model"
   ]
  },
  {
   "cell_type": "code",
   "execution_count": 31,
   "metadata": {},
   "outputs": [],
   "source": [
    "get_model_func = lambda: get_model(embedding_matrix, sentences_length, dropout_rate)"
   ]
  },
  {
   "cell_type": "code",
   "execution_count": 32,
   "metadata": {},
   "outputs": [
    {
     "name": "stdout",
     "output_type": "stream",
     "text": [
      "===========================================================================\n",
      "> \u001b[0;32m<ipython-input-28-4625a199ad52>\u001b[0m(10)\u001b[0;36mget_model\u001b[0;34m()\u001b[0m\n",
      "\u001b[0;32m      9 \u001b[0;31m    \u001b[0mipdb\u001b[0m\u001b[0;34m.\u001b[0m\u001b[0mset_trace\u001b[0m\u001b[0;34m(\u001b[0m\u001b[0;34m)\u001b[0m\u001b[0;34m\u001b[0m\u001b[0;34m\u001b[0m\u001b[0m\n",
      "\u001b[0m\u001b[0;32m---> 10 \u001b[0;31m    \u001b[0moutput\u001b[0m \u001b[0;34m=\u001b[0m \u001b[0mDense\u001b[0m\u001b[0;34m(\u001b[0m\u001b[0mnum_classes\u001b[0m\u001b[0;34m,\u001b[0m \u001b[0mactivation\u001b[0m\u001b[0;34m=\u001b[0m\u001b[0;34m'softmax'\u001b[0m\u001b[0;34m)\u001b[0m\u001b[0;34m(\u001b[0m\u001b[0mcapsule\u001b[0m\u001b[0;34m)\u001b[0m\u001b[0;34m\u001b[0m\u001b[0;34m\u001b[0m\u001b[0m\n",
      "\u001b[0m\u001b[0;32m     11 \u001b[0;31m    \u001b[0mmodel\u001b[0m \u001b[0;34m=\u001b[0m \u001b[0mModel\u001b[0m\u001b[0;34m(\u001b[0m\u001b[0minputs\u001b[0m\u001b[0;34m=\u001b[0m\u001b[0minput1\u001b[0m\u001b[0;34m,\u001b[0m \u001b[0moutputs\u001b[0m\u001b[0;34m=\u001b[0m\u001b[0moutput\u001b[0m\u001b[0;34m)\u001b[0m\u001b[0;34m\u001b[0m\u001b[0;34m\u001b[0m\u001b[0m\n",
      "\u001b[0m\n",
      "ipdb> c\n",
      "_________________________________________________________________\n",
      "Layer (type)                 Output Shape              Param #   \n",
      "=================================================================\n",
      "input_3 (InputLayer)         (None, 60)                0         \n",
      "_________________________________________________________________\n",
      "embedding_3 (Embedding)      (None, 60, 300)           752400    \n",
      "_________________________________________________________________\n",
      "spatial_dropout1d_3 (Spatial (None, 60, 300)           0         \n",
      "_________________________________________________________________\n",
      "bidirectional_3 (Bidirection (None, 60, 256)           329472    \n",
      "_________________________________________________________________\n",
      "capsule_3 (Capsule)          (None, 10, 16)            40960     \n",
      "_________________________________________________________________\n",
      "flatten_3 (Flatten)          (None, 160)               0         \n",
      "_________________________________________________________________\n",
      "dropout_3 (Dropout)          (None, 160)               0         \n",
      "_________________________________________________________________\n",
      "dense_1 (Dense)              (None, 32)                5152      \n",
      "=================================================================\n",
      "Total params: 1,127,984\n",
      "Trainable params: 375,584\n",
      "Non-trainable params: 752,400\n",
      "_________________________________________________________________\n",
      "Train on 1229 samples, validate on 1228 samples\n",
      "Epoch 1/1\n",
      "1229/1229 [==============================] - 13s 10ms/step - loss: 0.0304 - acc: 0.0309 - val_loss: 0.0303 - val_acc: 0.0366\n",
      "Epoch0\n",
      " loss0.13941963338593652\n",
      " best_loss:-1\n",
      "Train on 1229 samples, validate on 1228 samples\n",
      "Epoch 1/1\n",
      "1229/1229 [==============================] - 10s 8ms/step - loss: 0.0303 - acc: 0.0277 - val_loss: 0.0303 - val_acc: 0.0220\n",
      "Epoch1\n",
      " loss0.1395782707397468\n",
      " best_loss:0.13941963338593652\n",
      "Train on 1229 samples, validate on 1228 samples\n",
      "Epoch 1/1\n",
      "1229/1229 [==============================] - 10s 8ms/step - loss: 0.0303 - acc: 0.0317 - val_loss: 0.0303 - val_acc: 0.0318\n",
      "Epoch2\n",
      " loss0.13936204470282443\n",
      " best_loss:0.13941963338593652\n",
      "Train on 1229 samples, validate on 1228 samples\n",
      "Epoch 1/1\n",
      "1229/1229 [==============================] - 10s 8ms/step - loss: 0.0303 - acc: 0.0342 - val_loss: 0.0303 - val_acc: 0.0358\n",
      "Epoch3\n",
      " loss0.13897701534517967\n",
      " best_loss:0.13936204470282443\n",
      "Train on 1229 samples, validate on 1228 samples\n",
      "Epoch 1/1\n",
      "1229/1229 [==============================] - 10s 8ms/step - loss: 0.0303 - acc: 0.0334 - val_loss: 0.0303 - val_acc: 0.0383\n",
      "Epoch4\n",
      " loss0.1388940555941993\n",
      " best_loss:0.13897701534517967\n",
      "Train on 1229 samples, validate on 1228 samples\n",
      "Epoch 1/1\n",
      "1229/1229 [==============================] - 10s 8ms/step - loss: 0.0303 - acc: 0.0456 - val_loss: 0.0302 - val_acc: 0.0537\n",
      "Epoch5\n",
      " loss0.1384089352914592\n",
      " best_loss:0.1388940555941993\n",
      "Train on 1229 samples, validate on 1228 samples\n",
      "Epoch 1/1\n",
      "1229/1229 [==============================] - 10s 8ms/step - loss: 0.0302 - acc: 0.0537 - val_loss: 0.0302 - val_acc: 0.0554\n",
      "Epoch6\n",
      " loss0.13731657610937412\n",
      " best_loss:0.1384089352914592\n",
      "Train on 1229 samples, validate on 1228 samples\n",
      "Epoch 1/1\n",
      "1229/1229 [==============================] - 10s 8ms/step - loss: 0.0299 - acc: 0.1082 - val_loss: 0.0297 - val_acc: 0.1490\n",
      "Epoch7\n",
      " loss0.13138683932422268\n",
      " best_loss:0.13731657610937412\n",
      "Train on 1229 samples, validate on 1228 samples\n",
      "Epoch 1/1\n",
      "1229/1229 [==============================] - 10s 8ms/step - loss: 0.0285 - acc: 0.2392 - val_loss: 0.0268 - val_acc: 0.3249\n",
      "Epoch8\n",
      " loss0.11305628520934431\n",
      " best_loss:0.13138683932422268\n",
      "Train on 1229 samples, validate on 1228 samples\n",
      "Epoch 1/1\n",
      "1229/1229 [==============================] - 10s 8ms/step - loss: 0.0245 - acc: 0.3930 - val_loss: 0.0228 - val_acc: 0.4283\n",
      "Epoch9\n",
      " loss0.09274824596149767\n",
      " best_loss:0.11305628520934431\n",
      "Train on 1229 samples, validate on 1228 samples\n",
      "Epoch 1/1\n",
      "1229/1229 [==============================] - 10s 8ms/step - loss: 0.0204 - acc: 0.5338 - val_loss: 0.0200 - val_acc: 0.5130\n",
      "Epoch10\n",
      " loss0.08032532026965342\n",
      " best_loss:0.09274824596149767\n",
      "Train on 1229 samples, validate on 1228 samples\n",
      "Epoch 1/1\n",
      "1229/1229 [==============================] - 10s 8ms/step - loss: 0.0173 - acc: 0.6314 - val_loss: 0.0184 - val_acc: 0.5586\n",
      "Epoch11\n",
      " loss0.07240622290958228\n",
      " best_loss:0.08032532026965342\n",
      "Train on 1229 samples, validate on 1228 samples\n",
      "Epoch 1/1\n",
      "1229/1229 [==============================] - 10s 8ms/step - loss: 0.0145 - acc: 0.7055 - val_loss: 0.0166 - val_acc: 0.6230\n",
      "Epoch12\n",
      " loss0.06519768332024962\n",
      " best_loss:0.07240622290958228\n",
      "Train on 1229 samples, validate on 1228 samples\n",
      "Epoch 1/1\n",
      "1229/1229 [==============================] - 10s 8ms/step - loss: 0.0121 - acc: 0.7730 - val_loss: 0.0155 - val_acc: 0.6376\n",
      "Epoch13\n",
      " loss0.060971278803733514\n",
      " best_loss:0.06519768332024962\n",
      "Train on 1229 samples, validate on 1228 samples\n",
      "Epoch 1/1\n",
      "1229/1229 [==============================] - 10s 8ms/step - loss: 0.0100 - acc: 0.8177 - val_loss: 0.0148 - val_acc: 0.6547\n",
      "Epoch14\n",
      " loss0.057671688987423\n",
      " best_loss:0.060971278803733514\n",
      "Train on 1229 samples, validate on 1228 samples\n",
      "Epoch 1/1\n",
      "1229/1229 [==============================] - 10s 8ms/step - loss: 0.0087 - acc: 0.8405 - val_loss: 0.0145 - val_acc: 0.6686\n",
      "Epoch15\n",
      " loss0.05661498735442346\n",
      " best_loss:0.057671688987423\n",
      "Train on 1229 samples, validate on 1228 samples\n",
      "Epoch 1/1\n",
      "1229/1229 [==============================] - 10s 8ms/step - loss: 0.0073 - acc: 0.8771 - val_loss: 0.0139 - val_acc: 0.6881\n",
      "Epoch16\n",
      " loss0.05467868829580452\n",
      " best_loss:0.05661498735442346\n",
      "Train on 1229 samples, validate on 1228 samples\n",
      "Epoch 1/1\n",
      "1229/1229 [==============================] - 10s 8ms/step - loss: 0.0064 - acc: 0.8959 - val_loss: 0.0138 - val_acc: 0.6783\n",
      "Epoch17\n",
      " loss0.05391636911873094\n",
      " best_loss:0.05467868829580452\n",
      "Train on 1229 samples, validate on 1228 samples\n",
      "Epoch 1/1\n",
      "1229/1229 [==============================] - 10s 8ms/step - loss: 0.0055 - acc: 0.9129 - val_loss: 0.0138 - val_acc: 0.6897\n",
      "Epoch18\n",
      " loss0.05378871744445261\n",
      " best_loss:0.05391636911873094\n",
      "Train on 1229 samples, validate on 1228 samples\n",
      "Epoch 1/1\n",
      "1229/1229 [==============================] - 10s 8ms/step - loss: 0.0049 - acc: 0.9211 - val_loss: 0.0139 - val_acc: 0.6824\n",
      "Epoch19\n",
      " loss0.05380623093428867\n",
      " best_loss:0.05378871744445261\n",
      "Train on 1229 samples, validate on 1228 samples\n",
      "Epoch 1/1\n",
      "1229/1229 [==============================] - 10s 8ms/step - loss: 0.0044 - acc: 0.9243 - val_loss: 0.0140 - val_acc: 0.6824\n",
      "Epoch20\n",
      " loss0.054263604175135455\n",
      " best_loss:0.05378871744445261\n",
      "Train on 1229 samples, validate on 1228 samples\n",
      "Epoch 1/1\n",
      "1229/1229 [==============================] - 10s 8ms/step - loss: 0.0038 - acc: 0.9390 - val_loss: 0.0140 - val_acc: 0.6775\n",
      "Epoch21\n",
      " loss0.05419514808280502\n",
      " best_loss:0.05378871744445261\n",
      "Train on 1229 samples, validate on 1228 samples\n",
      "Epoch 1/1\n",
      "1229/1229 [==============================] - 10s 8ms/step - loss: 0.0034 - acc: 0.9455 - val_loss: 0.0141 - val_acc: 0.6743\n",
      "Epoch22\n",
      " loss0.05455560612378918\n",
      " best_loss:0.05378871744445261\n",
      "Train on 1229 samples, validate on 1228 samples\n",
      "Epoch 1/1\n",
      "1229/1229 [==============================] - 10s 8ms/step - loss: 0.0030 - acc: 0.9528 - val_loss: 0.0141 - val_acc: 0.6840\n",
      "Epoch23\n",
      " loss0.05454278546262855\n",
      " best_loss:0.05378871744445261\n",
      "2457/2457 [==============================] - 6s 2ms/step\n",
      "> \u001b[0;32m<ipython-input-28-4625a199ad52>\u001b[0m(10)\u001b[0;36mget_model\u001b[0;34m()\u001b[0m\n",
      "\u001b[0;32m      9 \u001b[0;31m    \u001b[0mipdb\u001b[0m\u001b[0;34m.\u001b[0m\u001b[0mset_trace\u001b[0m\u001b[0;34m(\u001b[0m\u001b[0;34m)\u001b[0m\u001b[0;34m\u001b[0m\u001b[0;34m\u001b[0m\u001b[0m\n",
      "\u001b[0m\u001b[0;32m---> 10 \u001b[0;31m    \u001b[0moutput\u001b[0m \u001b[0;34m=\u001b[0m \u001b[0mDense\u001b[0m\u001b[0;34m(\u001b[0m\u001b[0mnum_classes\u001b[0m\u001b[0;34m,\u001b[0m \u001b[0mactivation\u001b[0m\u001b[0;34m=\u001b[0m\u001b[0;34m'softmax'\u001b[0m\u001b[0;34m)\u001b[0m\u001b[0;34m(\u001b[0m\u001b[0mcapsule\u001b[0m\u001b[0;34m)\u001b[0m\u001b[0;34m\u001b[0m\u001b[0;34m\u001b[0m\u001b[0m\n",
      "\u001b[0m\u001b[0;32m     11 \u001b[0;31m    \u001b[0mmodel\u001b[0m \u001b[0;34m=\u001b[0m \u001b[0mModel\u001b[0m\u001b[0;34m(\u001b[0m\u001b[0minputs\u001b[0m\u001b[0;34m=\u001b[0m\u001b[0minput1\u001b[0m\u001b[0;34m,\u001b[0m \u001b[0moutputs\u001b[0m\u001b[0;34m=\u001b[0m\u001b[0moutput\u001b[0m\u001b[0;34m)\u001b[0m\u001b[0;34m\u001b[0m\u001b[0;34m\u001b[0m\u001b[0m\n",
      "\u001b[0m\n"
     ]
    },
    {
     "name": "stdout",
     "output_type": "stream",
     "text": [
      "ipdb> c\n",
      "_________________________________________________________________\n",
      "Layer (type)                 Output Shape              Param #   \n",
      "=================================================================\n",
      "input_4 (InputLayer)         (None, 60)                0         \n",
      "_________________________________________________________________\n",
      "embedding_4 (Embedding)      (None, 60, 300)           752400    \n",
      "_________________________________________________________________\n",
      "spatial_dropout1d_4 (Spatial (None, 60, 300)           0         \n",
      "_________________________________________________________________\n",
      "bidirectional_4 (Bidirection (None, 60, 256)           329472    \n",
      "_________________________________________________________________\n",
      "capsule_4 (Capsule)          (None, 10, 16)            40960     \n",
      "_________________________________________________________________\n",
      "flatten_4 (Flatten)          (None, 160)               0         \n",
      "_________________________________________________________________\n",
      "dropout_4 (Dropout)          (None, 160)               0         \n",
      "_________________________________________________________________\n",
      "dense_2 (Dense)              (None, 32)                5152      \n",
      "=================================================================\n",
      "Total params: 1,127,984\n",
      "Trainable params: 375,584\n",
      "Non-trainable params: 752,400\n",
      "_________________________________________________________________\n",
      "Train on 1229 samples, validate on 1228 samples\n",
      "Epoch 1/1\n",
      "1229/1229 [==============================] - 12s 10ms/step - loss: 0.0304 - acc: 0.0342 - val_loss: 0.0303 - val_acc: 0.0309\n",
      "Epoch0\n",
      " loss0.13948791544815808\n",
      " best_loss:-1\n",
      "Train on 1229 samples, validate on 1228 samples\n",
      "Epoch 1/1\n",
      "1229/1229 [==============================] - 10s 8ms/step - loss: 0.0303 - acc: 0.0423 - val_loss: 0.0303 - val_acc: 0.0407\n",
      "Epoch1\n",
      " loss0.13945648610589614\n",
      " best_loss:0.13948791544815808\n",
      "Train on 1229 samples, validate on 1228 samples\n",
      "Epoch 1/1\n",
      "1229/1229 [==============================] - 10s 8ms/step - loss: 0.0303 - acc: 0.0448 - val_loss: 0.0303 - val_acc: 0.0309\n",
      "Epoch2\n",
      " loss0.13931880234311225\n",
      " best_loss:0.13945648610589614\n",
      "Train on 1229 samples, validate on 1228 samples\n",
      "Epoch 1/1\n",
      "1229/1229 [==============================] - 10s 8ms/step - loss: 0.0303 - acc: 0.0358 - val_loss: 0.0303 - val_acc: 0.0375\n",
      "Epoch3\n",
      " loss0.13916317779157106\n",
      " best_loss:0.13931880234311225\n",
      "Train on 1229 samples, validate on 1228 samples\n",
      "Epoch 1/1\n",
      "1229/1229 [==============================] - 10s 8ms/step - loss: 0.0303 - acc: 0.0464 - val_loss: 0.0303 - val_acc: 0.0464\n",
      "Epoch4\n",
      " loss0.13895779805540331\n",
      " best_loss:0.13916317779157106\n",
      "Train on 1229 samples, validate on 1228 samples\n",
      "Epoch 1/1\n",
      "1229/1229 [==============================] - 10s 8ms/step - loss: 0.0303 - acc: 0.0415 - val_loss: 0.0303 - val_acc: 0.0480\n",
      "Epoch5\n",
      " loss0.13890607835522928\n",
      " best_loss:0.13895779805540331\n",
      "Train on 1229 samples, validate on 1228 samples\n",
      "Epoch 1/1\n",
      "1229/1229 [==============================] - 10s 8ms/step - loss: 0.0302 - acc: 0.0683 - val_loss: 0.0302 - val_acc: 0.0814\n",
      "Epoch6\n",
      " loss0.13799108285186712\n",
      " best_loss:0.13890607835522928\n",
      "Train on 1229 samples, validate on 1228 samples\n",
      "Epoch 1/1\n",
      "1229/1229 [==============================] - 10s 8ms/step - loss: 0.0297 - acc: 0.1009 - val_loss: 0.0289 - val_acc: 0.2150\n",
      "Epoch7\n",
      " loss0.12617416881103377\n",
      " best_loss:0.13799108285186712\n",
      "Train on 1229 samples, validate on 1228 samples\n",
      "Epoch 1/1\n",
      "1229/1229 [==============================] - 10s 8ms/step - loss: 0.0274 - acc: 0.2587 - val_loss: 0.0256 - val_acc: 0.3290\n",
      "Epoch8\n",
      " loss0.10676093262123147\n",
      " best_loss:0.12617416881103377\n",
      "Train on 1229 samples, validate on 1228 samples\n",
      "Epoch 1/1\n",
      "1229/1229 [==============================] - 10s 8ms/step - loss: 0.0235 - acc: 0.4133 - val_loss: 0.0223 - val_acc: 0.4381\n",
      "Epoch9\n",
      " loss0.0912743018965385\n",
      " best_loss:0.10676093262123147\n",
      "Train on 1229 samples, validate on 1228 samples\n",
      "Epoch 1/1\n",
      "1229/1229 [==============================] - 10s 8ms/step - loss: 0.0198 - acc: 0.5427 - val_loss: 0.0201 - val_acc: 0.5106\n",
      "Epoch10\n",
      " loss0.0807628191142162\n",
      " best_loss:0.0912743018965385\n",
      "Train on 1229 samples, validate on 1228 samples\n",
      "Epoch 1/1\n",
      "1229/1229 [==============================] - 10s 8ms/step - loss: 0.0166 - acc: 0.6615 - val_loss: 0.0174 - val_acc: 0.5936\n",
      "Epoch11\n",
      " loss0.07018228062431887\n",
      " best_loss:0.0807628191142162\n",
      "Train on 1229 samples, validate on 1228 samples\n",
      "Epoch 1/1\n",
      "1229/1229 [==============================] - 10s 8ms/step - loss: 0.0137 - acc: 0.7177 - val_loss: 0.0164 - val_acc: 0.6083\n",
      "Epoch12\n",
      " loss0.06607505156834262\n",
      " best_loss:0.07018228062431887\n",
      "Train on 1229 samples, validate on 1228 samples\n",
      "Epoch 1/1\n",
      "1229/1229 [==============================] - 10s 8ms/step - loss: 0.0115 - acc: 0.7681 - val_loss: 0.0155 - val_acc: 0.6319\n",
      "Epoch13\n",
      " loss0.06178003705339588\n",
      " best_loss:0.06607505156834262\n",
      "Train on 1229 samples, validate on 1228 samples\n",
      "Epoch 1/1\n",
      "1229/1229 [==============================] - 10s 8ms/step - loss: 0.0100 - acc: 0.8047 - val_loss: 0.0155 - val_acc: 0.6303\n",
      "Epoch14\n",
      " loss0.0614431765426822\n",
      " best_loss:0.06178003705339588\n",
      "Train on 1229 samples, validate on 1228 samples\n",
      "Epoch 1/1\n",
      "1229/1229 [==============================] - 10s 8ms/step - loss: 0.0085 - acc: 0.8421 - val_loss: 0.0148 - val_acc: 0.6523\n",
      "Epoch15\n",
      " loss0.058481574987686726\n",
      " best_loss:0.0614431765426822\n",
      "Train on 1229 samples, validate on 1228 samples\n",
      "Epoch 1/1\n",
      "1229/1229 [==============================] - 10s 8ms/step - loss: 0.0078 - acc: 0.8503 - val_loss: 0.0147 - val_acc: 0.6539\n",
      "Epoch16\n",
      " loss0.05697262183213976\n",
      " best_loss:0.058481574987686726\n",
      "Train on 1229 samples, validate on 1228 samples\n",
      "Epoch 1/1\n",
      "1229/1229 [==============================] - 10s 8ms/step - loss: 0.0071 - acc: 0.8625 - val_loss: 0.0144 - val_acc: 0.6523\n",
      "Epoch17\n",
      " loss0.055804395448612334\n",
      " best_loss:0.05697262183213976\n",
      "Train on 1229 samples, validate on 1228 samples\n",
      "Epoch 1/1\n",
      "1229/1229 [==============================] - 10s 8ms/step - loss: 0.0061 - acc: 0.8975 - val_loss: 0.0145 - val_acc: 0.6539\n",
      "Epoch18\n",
      " loss0.05584772570567707\n",
      " best_loss:0.055804395448612334\n",
      "Train on 1229 samples, validate on 1228 samples\n",
      "Epoch 1/1\n",
      "1229/1229 [==============================] - 10s 8ms/step - loss: 0.0054 - acc: 0.9089 - val_loss: 0.0144 - val_acc: 0.6653\n",
      "Epoch19\n",
      " loss0.05526198616160369\n",
      " best_loss:0.055804395448612334\n",
      "Train on 1229 samples, validate on 1228 samples\n",
      "Epoch 1/1\n",
      "1229/1229 [==============================] - 10s 8ms/step - loss: 0.0046 - acc: 0.9170 - val_loss: 0.0144 - val_acc: 0.6572\n",
      "Epoch20\n",
      " loss0.05499422362560393\n",
      " best_loss:0.05526198616160369\n",
      "Train on 1229 samples, validate on 1228 samples\n",
      "Epoch 1/1\n",
      "1229/1229 [==============================] - 10s 8ms/step - loss: 0.0040 - acc: 0.9357 - val_loss: 0.0144 - val_acc: 0.6604\n",
      "Epoch21\n",
      " loss0.05530571522557371\n",
      " best_loss:0.05499422362560393\n",
      "Train on 1229 samples, validate on 1228 samples\n",
      "Epoch 1/1\n",
      "1229/1229 [==============================] - 10s 8ms/step - loss: 0.0038 - acc: 0.9390 - val_loss: 0.0142 - val_acc: 0.6678\n",
      "Epoch22\n",
      " loss0.054515268946123456\n",
      " best_loss:0.05499422362560393\n",
      "Train on 1229 samples, validate on 1228 samples\n",
      "Epoch 1/1\n",
      "1229/1229 [==============================] - 10s 8ms/step - loss: 0.0036 - acc: 0.9422 - val_loss: 0.0144 - val_acc: 0.6637\n",
      "Epoch23\n",
      " loss0.054981380613371364\n",
      " best_loss:0.054515268946123456\n",
      "Train on 1229 samples, validate on 1228 samples\n",
      "Epoch 1/1\n",
      "1229/1229 [==============================] - 10s 8ms/step - loss: 0.0031 - acc: 0.9520 - val_loss: 0.0142 - val_acc: 0.6735\n",
      "Epoch24\n",
      " loss0.05459386195776046\n",
      " best_loss:0.054515268946123456\n",
      "Train on 1229 samples, validate on 1228 samples\n",
      "Epoch 1/1\n",
      "1229/1229 [==============================] - 10s 8ms/step - loss: 0.0026 - acc: 0.9609 - val_loss: 0.0146 - val_acc: 0.6702\n",
      "Epoch25\n",
      " loss0.05604012166668345\n",
      " best_loss:0.054515268946123456\n",
      "Train on 1229 samples, validate on 1228 samples\n",
      "Epoch 1/1\n",
      "1229/1229 [==============================] - 10s 8ms/step - loss: 0.0025 - acc: 0.9650 - val_loss: 0.0143 - val_acc: 0.6710\n",
      "Epoch26\n",
      " loss0.05493559094900363\n",
      " best_loss:0.054515268946123456\n",
      "Train on 1229 samples, validate on 1228 samples\n",
      "Epoch 1/1\n",
      "1229/1229 [==============================] - 10s 8ms/step - loss: 0.0021 - acc: 0.9683 - val_loss: 0.0145 - val_acc: 0.6645\n"
     ]
    },
    {
     "name": "stdout",
     "output_type": "stream",
     "text": [
      "Epoch27\n",
      " loss0.055672968921712876\n",
      " best_loss:0.054515268946123456\n",
      "2457/2457 [==============================] - 6s 2ms/step\n"
     ]
    }
   ],
   "source": [
    "models = train_folds(X_train, y_train, fold_count, batch_size, get_model_func)"
   ]
  },
  {
   "cell_type": "code",
   "execution_count": 46,
   "metadata": {},
   "outputs": [
    {
     "data": {
      "image/png": "[encoded data removed]",
      "text/plain": [
       "<matplotlib.figure.Figure at 0x7f5036ee2d30>"
      ]
     },
     "metadata": {
      "needs_background": "light"
     },
     "output_type": "display_data"
    },
    {
     "data": {
      "image/png": "[encoded data removed]",
      "text/plain": [
       "<matplotlib.figure.Figure at 0x7f5036ea0048>"
      ]
     },
     "metadata": {
      "needs_background": "light"
     },
     "output_type": "display_data"
    }
   ],
   "source": [
    "#summarize history for accuracy\n",
    "plt.plot(models.history.history['acc'])\n",
    "plt.plot(models.history.history['val_acc'])\n",
    "plt.title('model accuracy')\n",
    "plt.ylabel('accuracy')\n",
    "plt.xlabel('epoch')\n",
    "plt.legend(['train', 'validation'],loc='lower right')\n",
    "plt.show()\n",
    "#summarize history for loss\n",
    "plt.plot(models.history.history['loss'])\n",
    "plt.plot(models.history.history['val_loss'])\n",
    "plt.title('model_loss')\n",
    "plt.ylabel('loss')\n",
    "plt.xlabel('epoch')\n",
    "plt.legend(['train', 'validation'], loc='upper right')\n",
    "plt.show()"
   ]
  },
  {
   "cell_type": "markdown",
   "metadata": {},
   "source": [
    "Saving_model"
   ]
  },
  {
   "cell_type": "code",
   "execution_count": 196,
   "metadata": {},
   "outputs": [],
   "source": [
    "model_name = 'Capsule_Network'\n",
    "saving_path = '/opt/flask/src/Flask_Core/Nltk/Data/TrainedModels/'"
   ]
  },
  {
   "cell_type": "code",
   "execution_count": 197,
   "metadata": {},
   "outputs": [],
   "source": [
    "import pickle"
   ]
  },
  {
   "cell_type": "code",
   "execution_count": 201,
   "metadata": {},
   "outputs": [],
   "source": [
    "models.save(saving_path + model_name + '.h5')\n",
    "\n",
    "with open(saving_path +'utils_'+ model_name +'.pickle', 'wb') as f:\n",
    "    pickle.dump((embedding_matrix, sentences_length, num_classes, num_capsule, dim_capsule, dropout_rate), f)"
   ]
  },
  {
   "cell_type": "markdown",
   "metadata": {},
   "source": [
    "Loading and Unpickling Model"
   ]
  },
  {
   "cell_type": "code",
   "execution_count": 211,
   "metadata": {},
   "outputs": [],
   "source": [
    "with open (saving_path + 'utils_'+ model_name+'.pickle', 'rb') as f:\n",
    "    pred_embedding_matrix, pred_num_classes, pred_sentences_length, pred_num_capsule, pred_dim_capsule, pred_dropout_rate, = pickle.load(f)\n",
    "\n",
    "loaded_model = load_model(saving_path + model_name +'.h5', custom_objects={'Capsule':Capsule(pred_num_capsule, pred_dim_capsule)})"
   ]
  },
  {
   "cell_type": "markdown",
   "metadata": {},
   "source": [
    "Testing"
   ]
  },
  {
   "cell_type": "code",
   "execution_count": 224,
   "metadata": {},
   "outputs": [
    {
     "name": "stderr",
     "output_type": "stream",
     "text": [
      "100%|██████████| 141/141 [00:00<00:00, 6426.55it/s]"
     ]
    },
    {
     "name": "stdout",
     "output_type": "stream",
     "text": [
      "Preparing Testing data...\n",
      "Number of testing items141\n",
      "Preprocessing sentences in test set...\n",
      "Print train data shape: (141, 60)\n",
      "Print train label shape: (141,)\n"
     ]
    },
    {
     "name": "stderr",
     "output_type": "stream",
     "text": [
      "\n"
     ]
    }
   ],
   "source": [
    "print(\"Preparing Testing data...\")\n",
    "test_df = pd.read_csv('/opt/flask/src/Flask_Core/Nltk/Data/Datasets/thirty_percent_for_testing_data.csv')\n",
    "print(f\"Number of testing items{len(test_df)}\")\n",
    "print(\"Preprocessing sentences in test set...\")\n",
    "\n",
    "tokenized_sentences_test, words_dict = tokenize_sentences(test_df['Text'], words_dict)\n",
    "\n",
    "test_list_of_tokens_ids = convert_tokens_to_ids(tokenized_sentences_test, id_to_word, embedding_word_dict, sentences_length)\n",
    "\n",
    "X_test = np.array(test_list_of_tokens_ids)\n",
    "y_test = np.asarray(test_df['Label'])\n",
    "\n",
    "print(f'Print train data shape: {X_test.shape}\\nPrint train label shape: {y_test.shape}')"
   ]
  },
  {
   "cell_type": "code",
   "execution_count": 225,
   "metadata": {},
   "outputs": [],
   "source": [
    "test_predictions_probs = loaded_model.predict(X_test)\n",
    "test_predictions = test_predictions_probs.argmax(axis=-1)"
   ]
  },
  {
   "cell_type": "markdown",
   "metadata": {},
   "source": [
    "Metrics and Score"
   ]
  },
  {
   "cell_type": "code",
   "execution_count": 227,
   "metadata": {},
   "outputs": [],
   "source": [
    "from sklearn.metrics import classification_report\n",
    "from sklearn.metrics import confusion_matrix\n",
    "from sklearn.utils.multiclass import unique_labels"
   ]
  },
  {
   "cell_type": "code",
   "execution_count": 228,
   "metadata": {},
   "outputs": [
    {
     "name": "stdout",
     "output_type": "stream",
     "text": [
      "accuracy: 0.524822695035461\n",
      "Precision, Recall and F1-Score:\n",
      "\n",
      "               precision    recall  f1-score   support\n",
      "\n",
      "           0       0.50      0.50      0.50         4\n",
      "           1       0.67      0.40      0.50         5\n",
      "           2       0.57      0.80      0.67         5\n",
      "           3       0.40      1.00      0.57         2\n",
      "           4       0.60      0.60      0.60         5\n",
      "           5       0.50      1.00      0.67         2\n",
      "           6       1.00      0.71      0.83         7\n",
      "           7       1.00      0.60      0.75         5\n",
      "           8       0.00      0.00      0.00         2\n",
      "           9       1.00      0.40      0.57         5\n",
      "          10       0.20      0.25      0.22         4\n",
      "          11       0.50      1.00      0.67         1\n",
      "          12       0.57      0.89      0.70         9\n",
      "          13       0.00      0.00      0.00         4\n",
      "          14       0.33      0.25      0.29         4\n",
      "          15       0.50      0.25      0.33         4\n",
      "          16       0.60      0.50      0.55         6\n",
      "          17       0.50      0.17      0.25         6\n",
      "          18       0.80      0.50      0.62         8\n",
      "          19       0.67      0.67      0.67         3\n",
      "          20       0.80      0.80      0.80         5\n",
      "          21       0.00      0.00      0.00         3\n",
      "          22       0.17      0.50      0.25         2\n",
      "          23       0.67      0.50      0.57         4\n",
      "          24       0.50      0.40      0.44         5\n",
      "          25       0.33      0.50      0.40         4\n",
      "          26       0.78      0.70      0.74        10\n",
      "          27       0.50      1.00      0.67         2\n",
      "          28       0.25      0.25      0.25         4\n",
      "          29       0.50      1.00      0.67         4\n",
      "          30       0.20      0.50      0.29         2\n",
      "          31       0.33      0.20      0.25         5\n",
      "\n",
      "   micro avg       0.52      0.52      0.52       141\n",
      "   macro avg       0.50      0.53      0.48       141\n",
      "weighted avg       0.56      0.52      0.51       141\n",
      "\n"
     ]
    }
   ],
   "source": [
    "print(f'accuracy: {sum(test_predictions == y_test)/len(y_test)}')\n",
    "print(\"Precision, Recall and F1-Score:\\n\\n\", classification_report(y_test, test_predictions))"
   ]
  },
  {
   "cell_type": "code",
   "execution_count": 229,
   "metadata": {},
   "outputs": [],
   "source": [
    "def plot_confusion_matrix(y_true, y_pred, classes,\n",
    "                          normalize=False,\n",
    "                          title=None,\n",
    "                          cmap=plt.cm.Blues):\n",
    "    \"\"\"\n",
    "    This function prints and plots the confusion matrix.\n",
    "    Normalization can be applied by setting `normalize=True`.\n",
    "    \"\"\"\n",
    "    if not title:\n",
    "        if normalize:\n",
    "            title = 'Normalized confusion matrix'\n",
    "        else:\n",
    "            title = 'Confusion matrix, without normalization'\n",
    "\n",
    "    # Compute confusion matrix\n",
    "    cm = confusion_matrix(y_true, y_pred)\n",
    "    # Only use the labels that appear in the data\n",
    "    classes = classes[unique_labels(y_true, y_pred)]\n",
    "    if normalize:\n",
    "        cm = cm.astype('float') / cm.sum(axis=1)[:, np.newaxis]\n",
    "        print(\"Normalized confusion matrix\")\n",
    "    else:\n",
    "        print('Confusion matrix, without normalization')\n",
    "\n",
    "    #print(cm)\n",
    "\n",
    "    fig, ax = plt.subplots(figsize=(12,12))\n",
    "    im = ax.imshow(cm, interpolation='nearest', cmap=cmap)\n",
    "    ax.figure.colorbar(im, ax=ax)\n",
    "    # We want to show all ticks...\n",
    "    ax.set(xticks=np.arange(cm.shape[1]),\n",
    "           yticks=np.arange(cm.shape[0]),\n",
    "           # ... and label them with the respective list entries\n",
    "           xticklabels=classes, yticklabels=classes,\n",
    "           title=title,\n",
    "           ylabel='True label',\n",
    "           xlabel='Predicted label')\n",
    "\n",
    "    # Rotate the tick labels and set their alignment.\n",
    "    plt.setp(ax.get_xticklabels(), rotation=45, ha=\"right\",\n",
    "             rotation_mode=\"anchor\")\n",
    "\n",
    "    # Loop over data dimensions and create text annotations.\n",
    "    fmt = '.2f' if normalize else 'd'\n",
    "    thresh = cm.max() / 2.\n",
    "    for i in range(cm.shape[0]):\n",
    "        for j in range(cm.shape[1]):\n",
    "            ax.text(j, i, format(cm[i, j], fmt),\n",
    "                    ha=\"center\", va=\"center\",\n",
    "                    color=\"white\" if cm[i, j] > thresh else \"black\")\n",
    "    fig.tight_layout()\n",
    "    return ax"
   ]
  },
  {
   "cell_type": "code",
   "execution_count": 230,
   "metadata": {},
   "outputs": [],
   "source": [
    "class_names, class_count = np.unique(test_df['Label'], return_counts=True)"
   ]
  },
  {
   "cell_type": "code",
   "execution_count": 231,
   "metadata": {},
   "outputs": [
    {
     "name": "stdout",
     "output_type": "stream",
     "text": [
      "Confusion matrix, without normalization\n"
     ]
    },
    {
     "data": {
      "image/png": "[encoded data removed]",
      "text/plain": [
       "<matplotlib.figure.Figure at 0x7f4c4abe0780>"
      ]
     },
     "metadata": {
      "needs_background": "light"
     },
     "output_type": "display_data"
    }
   ],
   "source": [
    "np.set_printoptions(precision=2)\n",
    "# Plot non-normalized confusion matrix\n",
    "plot_confusion_matrix(y_test, test_predictions, classes=class_names, title='Confusion matrix, without normalization')\n",
    "\n",
    "# Plot normalized confusion matrix\n",
    "# plot_confusion_matrix(test_intent_original, test_intent_predictions, classes=test_df['String_label'], normalize=True,\n",
    "#                       title='Normalized confusion matrix')\n",
    "\n",
    "plt.show()"
   ]
  },
  {
   "cell_type": "code",
   "execution_count": null,
   "metadata": {},
   "outputs": [],
   "source": []
  }
 ],
 "metadata": {
  "kernelspec": {
   "display_name": "Python 3",
   "language": "python",
   "name": "python3"
  },
  "language_info": {
   "codemirror_mode": {
    "name": "ipython",
    "version": 3
   },
   "file_extension": ".py",
   "mimetype": "text/x-python",
   "name": "python",
   "nbconvert_exporter": "python",
   "pygments_lexer": "ipython3",
   "version": "3.6.7"
  }
 },
 "nbformat": 4,
 "nbformat_minor": 2
}
